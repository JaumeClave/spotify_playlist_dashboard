{
 "cells": [
  {
   "cell_type": "code",
   "execution_count": null,
   "metadata": {
    "collapsed": true,
    "pycharm": {
     "is_executing": true
    }
   },
   "outputs": [],
   "source": [
    "import pandas as pd\n",
    "import streamlit as st\n",
    "import spotipy\n",
    "import spotipy.util as util\n",
    "from dateutil.parser import parse as parse_date\n",
    "from IPython.display import Image\n",
    "from IPython.core.display import HTML"
   ]
  },
  {
   "cell_type": "markdown",
   "source": [],
   "metadata": {
    "collapsed": false
   }
  },
  {
   "cell_type": "markdown",
   "source": [
    "## Spotipy OAuth"
   ],
   "metadata": {
    "collapsed": false,
    "pycharm": {
     "name": "#%% md\n"
    }
   }
  },
  {
   "cell_type": "code",
   "execution_count": 4,
   "outputs": [
    {
     "ename": "NameError",
     "evalue": "name 'util' is not defined",
     "output_type": "error",
     "traceback": [
      "\u001B[1;31m---------------------------------------------------------------------------\u001B[0m",
      "\u001B[1;31mNameError\u001B[0m                                 Traceback (most recent call last)",
      "\u001B[1;32m<ipython-input-4-66a9af3cbd4a>\u001B[0m in \u001B[0;36m<module>\u001B[1;34m\u001B[0m\n\u001B[0;32m     11\u001B[0m \u001B[0mapp\u001B[0m\u001B[1;33m-\u001B[0m\u001B[0mremote\u001B[0m\u001B[1;33m-\u001B[0m\u001B[0mcontrol\u001B[0m \u001B[0muser\u001B[0m\u001B[1;33m-\u001B[0m\u001B[0mread\u001B[0m\u001B[1;33m-\u001B[0m\u001B[0mrecently\u001B[0m\u001B[1;33m-\u001B[0m\u001B[0mplayed\u001B[0m \u001B[0mplaylist\u001B[0m\u001B[1;33m-\u001B[0m\u001B[0mmodify\u001B[0m\u001B[1;33m-\u001B[0m\u001B[0mprivate\u001B[0m \u001B[0muser\u001B[0m\u001B[1;33m-\u001B[0m\u001B[0mfollow\u001B[0m\u001B[1;33m-\u001B[0m\u001B[0mmodify\u001B[0m \u001B[0muser\u001B[0m\u001B[1;33m-\u001B[0m\u001B[0mlibrary\u001B[0m\u001B[1;33m-\u001B[0m\u001B[0mread\u001B[0m\u001B[0;31m'\u001B[0m\u001B[1;33m\u001B[0m\u001B[1;33m\u001B[0m\u001B[0m\n\u001B[0;32m     12\u001B[0m \u001B[1;31m# Create token\u001B[0m\u001B[1;33m\u001B[0m\u001B[1;33m\u001B[0m\u001B[1;33m\u001B[0m\u001B[0m\n\u001B[1;32m---> 13\u001B[1;33m token = util.prompt_for_user_token(\n\u001B[0m\u001B[0;32m     14\u001B[0m     \u001B[0muser_id\u001B[0m\u001B[1;33m,\u001B[0m\u001B[1;33m\u001B[0m\u001B[1;33m\u001B[0m\u001B[0m\n\u001B[0;32m     15\u001B[0m     \u001B[0mscope\u001B[0m\u001B[1;33m,\u001B[0m\u001B[1;33m\u001B[0m\u001B[1;33m\u001B[0m\u001B[0m\n",
      "\u001B[1;31mNameError\u001B[0m: name 'util' is not defined"
     ]
    }
   ],
   "source": [
    "# API credentials\n",
    "api_creds = pd.read_csv(\"../data/external/api_keys.csv\", header=None)\n",
    "# Spotify API token\n",
    "user_id = api_creds[1].iloc[0]\n",
    "client_id = api_creds[1].iloc[1]\n",
    "client_secret = api_creds[1].iloc[2]\n",
    "# All scope\n",
    "scope = 'ugc-image-upload user-read-playback-state streaming user-read-email playlist-read-collaborative \\\n",
    "user-modify-playback-state user-read-private playlist-modify-public user-library-modify user-top-read \\\n",
    "user-read-playback-position user-read-currently-playing playlist-read-private user-follow-read \\\n",
    "app-remote-control user-read-recently-played playlist-modify-private user-follow-modify user-library-read'\n",
    "# Create token\n",
    "token = util.prompt_for_user_token(\n",
    "    user_id,\n",
    "    scope,\n",
    "    client_id = client_id,\n",
    "    client_secret = client_secret,\n",
    "    redirect_uri='http://127.0.0.1:9090')\n",
    "sp = spotipy.Spotify(auth = token)"
   ],
   "metadata": {
    "collapsed": false,
    "pycharm": {
     "name": "#%%\n"
    }
   }
  },
  {
   "cell_type": "markdown",
   "source": [
    "#### Spotipy OAuth - Function"
   ],
   "metadata": {
    "collapsed": false,
    "pycharm": {
     "name": "#%% md\n"
    }
   }
  },
  {
   "cell_type": "code",
   "execution_count": null,
   "outputs": [],
   "source": [
    "FILE_PATH_API_CREDENTIAL = r\"C:\\Users\\Jaume\\Documents\\Python Projects\\spotify_compare\\data\\external\\api_keys.csv\"\n",
    "SPOTIPY_SCOPE = \"ugc-image-upload user-read-playback-state streaming user-read-email playlist-read-collaborative \\\n",
    "    user-modify-playback-state user-read-private playlist-modify-public user-library-modify user-top-read \\\n",
    "    user-read-playback-position user-read-currently-playing playlist-read-private user-follow-read \\\n",
    "    app-remote-control user-read-recently-played playlist-modify-private user-follow-modify user-library-read\"\n",
    "\n",
    "def make_api_cred_dataframe(file_path):\n",
    "    \"\"\"\n",
    "    Function loads the csv file containing Spotify Developer client id/secret\n",
    "    :param file_path:\n",
    "    :return:\n",
    "    \"\"\"\n",
    "    api_creds = pd.read_csv(file_path, header=None)\n",
    "    return api_creds\n",
    "\n",
    "def make_tokens_from_api_creds(api_creds_df):\n",
    "    \"\"\"\n",
    "    Function gets user_id, client_id, client_secret\n",
    "    :param api_creds_df:\n",
    "    :return:\n",
    "    \"\"\"\n",
    "    user_id = api_creds_df[1].iloc[0]\n",
    "    client_id = api_creds_df[1].iloc[1]\n",
    "    client_secret = api_creds_df[1].iloc[2]\n",
    "    return user_id, client_id, client_secret\n",
    "\n",
    "def get_token_authentication(user_id, client_id, client_secret, scope):\n",
    "    \"\"\"\n",
    "    Function gets token user to authenticate\n",
    "    :param user_id:\n",
    "    :param client_id:\n",
    "    :param client_secret:\n",
    "    :param scope:\n",
    "    :return:\n",
    "    \"\"\"\n",
    "    token = util.prompt_for_user_token(\n",
    "        user_id, scope, client_id = client_id, client_secret = client_secret, redirect_uri='http://127.0.0.1:9090')\n",
    "    sp = spotipy.Spotify(auth = token)\n",
    "    return sp\n",
    "\n",
    "def pipeline_spotipy_authentication():\n",
    "    \"\"\"\n",
    "    Function pipelines the workflow needed to authenticate on Spotify\n",
    "    :return:\n",
    "    \"\"\"\n",
    "    api_creds = make_api_cred_dataframe(FILE_PATH_API_CREDENTIAL)\n",
    "    user_id, client_id, client_secret = make_tokens_from_api_creds(api_creds)\n",
    "    sp = get_token_authentication(user_id, client_id, client_secret, SPOTIPY_SCOPE)\n",
    "    return sp\n"
   ],
   "metadata": {
    "collapsed": false,
    "pycharm": {
     "name": "#%%\n"
    }
   }
  },
  {
   "cell_type": "code",
   "execution_count": null,
   "outputs": [],
   "source": [
    "sp = pipeline_spotipy_authentication()"
   ],
   "metadata": {
    "collapsed": false,
    "pycharm": {
     "name": "#%%\n"
    }
   }
  },
  {
   "cell_type": "markdown",
   "source": [
    "## Return Playlist from Link"
   ],
   "metadata": {
    "collapsed": false,
    "pycharm": {
     "name": "#%% md\n"
    }
   }
  },
  {
   "cell_type": "code",
   "execution_count": null,
   "outputs": [],
   "source": [
    "def get_playist_id_from_link(playlist_link):\n",
    "    \"\"\"\n",
    "    Function returns the Spotify playlist id from the Spotify generated link\n",
    "    :param playlist_link:\n",
    "    :return:\n",
    "    \"\"\"\n",
    "    id = playlist_link.split(\"/\")[-1].split(\"?\")[0]\n",
    "    return id"
   ],
   "metadata": {
    "collapsed": false,
    "pycharm": {
     "name": "#%%\n"
    }
   }
  },
  {
   "cell_type": "code",
   "execution_count": null,
   "outputs": [],
   "source": [
    "def get_playlist_name_description_image_url(playlist_id):\n",
    "    \"\"\"\n",
    "    Function returns the associated playlist cover art\n",
    "    :param playlist_id:\n",
    "    :return:\n",
    "    \"\"\"\n",
    "    playlist = sp.user_playlist(user_id, playlist_id)\n",
    "    name = playlist[\"name\"]\n",
    "    description = playlist['description']\n",
    "    image_url = playlist[\"images\"][0][\"url\"]\n",
    "    collaborative = playlist['collaborative']\n",
    "    followers = playlist[\"followers\"][\"total\"]\n",
    "    owner = playlist[\"owner\"][\"display_name\"]\n",
    "    public = playlist[\"public\"]\n",
    "    return name, description, image_url, collaborative, followers, owner, public"
   ],
   "metadata": {
    "collapsed": false,
    "pycharm": {
     "name": "#%%\n"
    }
   }
  },
  {
   "cell_type": "code",
   "execution_count": null,
   "outputs": [],
   "source": [
    "playlist = sp.user_playlist(user_id, playlist_id)\n",
    "print(playlist.keys())\n",
    "playlist"
   ],
   "metadata": {
    "collapsed": false,
    "pycharm": {
     "name": "#%%\n"
    }
   }
  },
  {
   "cell_type": "code",
   "execution_count": null,
   "outputs": [],
   "source": [
    "id = get_playist_id_from_link(\"https://open.spotify.com/playlist/2wOJV8mN9c548Qw0PbInCT?si=c5bfe217a16b46be\")\n",
    "get_playlist_name_description_image_url(id)"
   ],
   "metadata": {
    "collapsed": false,
    "pycharm": {
     "name": "#%%\n"
    }
   }
  },
  {
   "cell_type": "markdown",
   "source": [
    "### Return Playlist Dataframe"
   ],
   "metadata": {
    "collapsed": false,
    "pycharm": {
     "name": "#%% md\n"
    }
   }
  },
  {
   "cell_type": "code",
   "execution_count": null,
   "outputs": [],
   "source": [
    "def get_playlist_tracks(username, playlist_id):\n",
    "    \"\"\"\n",
    "    Function returns all songs (JSON) for a playlist. Spotipy returns paginated results of 100 songs and this function filters through all pages\n",
    "    :param username:\n",
    "    :param playlist_id:\n",
    "    :return:\n",
    "    \"\"\"\n",
    "    results = sp.user_playlist_tracks(username,playlist_id)\n",
    "    tracks = results['items']\n",
    "    while results['next']:\n",
    "        results = sp.next(results)\n",
    "        tracks.extend(results['items'])\n",
    "    return tracks\n",
    "\n",
    "def get_playlist_df(playlist_id):\n",
    "    \"\"\"\n",
    "    Function creates a dataframe containing songs and relevant song details from a playlist\n",
    "    :param playlist_id:\n",
    "    :return:\n",
    "    \"\"\"\n",
    "    playlist = sp.user_playlist(user_id, playlist_id)\n",
    "    tracks = get_playlist_tracks(user_id, playlist_id)\n",
    "    next_uri = playlist['tracks']['next']\n",
    "    name = playlist['name']\n",
    "    tracks_df = pd.DataFrame([(track['track']['id'], track['track']['name'],\n",
    "                               track[\"track\"][\"artists\"][0][\"id\"], track['track']['artists'][0]['name'],\n",
    "                               track[\"track\"][\"album\"][\"id\"], track['track']['album']['name'],\n",
    "                               track['track']['popularity'],\n",
    "                               parse_date(track['track']['album']['release_date'])\n",
    "                               if track['track']['album']['release_date'] else None,\n",
    "                               parse_date(track['added_at']))\n",
    "                              for track in tracks],\n",
    "                             columns=['id', 'name', \"artist_id\", 'artist', \"album_id\", 'album', 'track popularity', 'release_date', 'added_at'])\n",
    "    tracks_df['playlist_name'] = name\n",
    "    tracks_df[\"release_year\"] = tracks_df[\"release_date\"].dt.year\n",
    "    return tracks_df"
   ],
   "metadata": {
    "collapsed": false,
    "pycharm": {
     "name": "#%%\n"
    }
   }
  },
  {
   "cell_type": "code",
   "execution_count": null,
   "outputs": [],
   "source": [
    "playlist_df = get_playlist_df(id)\n",
    "playlist_df"
   ],
   "metadata": {
    "collapsed": false,
    "pycharm": {
     "name": "#%%\n"
    }
   }
  },
  {
   "cell_type": "code",
   "execution_count": null,
   "outputs": [],
   "source": [
    "def get_playlist_count_songs_artists(playlist_df):\n",
    "    \"\"\"\n",
    "    Function gets the amount of songs and count of artists in a playlist dataframe\n",
    "    :param playlist_df:\n",
    "    :return:\n",
    "    \"\"\"\n",
    "    count_songs = len(playlist_df[\"name\"])\n",
    "    count_artists = len(playlist_df[\"artist\"].unique())\n",
    "    return count_songs, count_artists\n"
   ],
   "metadata": {
    "collapsed": false,
    "pycharm": {
     "name": "#%%\n"
    }
   }
  },
  {
   "cell_type": "markdown",
   "source": [
    "### Artist Count Dataframe"
   ],
   "metadata": {
    "collapsed": false,
    "pycharm": {
     "name": "#%% md\n"
    }
   }
  },
  {
   "cell_type": "code",
   "execution_count": null,
   "outputs": [],
   "source": [
    "ARTIST = \"artist\"\n",
    "ID = \"id\"\n",
    "SONGS = \"songs\"\n",
    "ALBUM = \"album\"\n",
    "COUNT = \"count\"\n",
    "\n",
    "def make_artist_in_playlist_count_df(playlist_df):\n",
    "    \"\"\"\n",
    "    Function makes a dataframe showing the amount of songs each artist in the playlist has in the playlist\n",
    "    :param playlist_df: dataframe of the playlist\n",
    "    :return: artist count dataframe\n",
    "    \"\"\"\n",
    "    artist_count_df = playlist_df.groupby(ARTIST).count()[ID].reset_index().sort_values(ID, ascending=False).rename(columns={ID: COUNT})\n",
    "    artist_count_df.set_index(ARTIST, inplace=True)\n",
    "    artist_count_df.index.name = ARTIST\n",
    "    return artist_count_df\n",
    "\n",
    "def make_album_in_playlist_count_df(playlist_df):\n",
    "    \"\"\"\n",
    "    Function makes a dataframe showing the amount of songs each album has in the playlist has in the playlist\n",
    "    :param playlist_df: dataframe of the playlist\n",
    "    :return: artist count dataframe\n",
    "    \"\"\"\n",
    "    album_count_df = playlist_df.groupby(ALBUM).count()[ID].reset_index().sort_values(ID, ascending=False).rename(columns={ID: COUNT})\n",
    "    album_count_df.set_index(ALBUM, inplace=True)\n",
    "    album_count_df.index.name = ALBUM\n",
    "    return album_count_df\n",
    "\n",
    "def pipeline_make_count_artist_album_df(playlist_df):\n",
    "    \"\"\"\n",
    "\n",
    "    :param playlist_df:\n",
    "    :return:\n",
    "    \"\"\"\n",
    "    artist_count_df = make_artist_in_playlist_count_df(playlist_df)\n",
    "    album_count_df = make_album_in_playlist_count_df(playlist_df)\n",
    "    return artist_count_df, album_count_df"
   ],
   "metadata": {
    "collapsed": false,
    "pycharm": {
     "name": "#%%\n"
    }
   }
  },
  {
   "cell_type": "code",
   "execution_count": null,
   "outputs": [],
   "source": [
    "pipeline_make_count_artist_album_df(playlist_df)"
   ],
   "metadata": {
    "collapsed": false,
    "pycharm": {
     "name": "#%%\n"
    }
   }
  },
  {
   "cell_type": "markdown",
   "source": [
    "### Plot Date Added"
   ],
   "metadata": {
    "collapsed": false,
    "pycharm": {
     "name": "#%% md\n"
    }
   }
  },
  {
   "cell_type": "code",
   "execution_count": null,
   "outputs": [],
   "source": [
    "from pylab import *\n",
    "import calplot\n",
    "\n",
    "ID = \"id\"\n",
    "ADDED_AT_COLUMN = \"added_at\"\n",
    "DAY_FREQUENCY = \"D\"\n",
    "START_OF_YEAR = \"-1-1\"\n",
    "END_OF_YEAR = \"-12-31\"\n",
    "COLORWAY_CALENDAR = 'YlGn'\n",
    "\n",
    "def make_daily_add_series(playlist_df):\n",
    "    \"\"\"\n",
    "\n",
    "    :param playlist_df:\n",
    "    :return:\n",
    "    \"\"\"\n",
    "    dms = playlist_df.groupby(playlist_df[ADDED_AT_COLUMN].dt.to_period(DAY_FREQUENCY)).count()[ID].to_timestamp()\n",
    "    max_year = playlist_df[ADDED_AT_COLUMN].dt.to_period(DAY_FREQUENCY).max().year\n",
    "    min_year = playlist_df[ADDED_AT_COLUMN].dt.to_period(DAY_FREQUENCY).min().year\n",
    "    idx = pd.date_range(str(min_year) + START_OF_YEAR, str(max_year) + END_OF_YEAR)\n",
    "    dms.index = pd.DatetimeIndex(dms.index)\n",
    "    daily_adds = dms.reindex(idx, fill_value=0)\n",
    "    return daily_adds\n",
    "\n",
    "def plot_date_added_calendar(daily_adds):\n",
    "    \"\"\"\n",
    "\n",
    "    :param daily_adds:\n",
    "    :return:\n",
    "    \"\"\"\n",
    "    cmap = cm.get_cmap(COLORWAY_CALENDAR, 10)\n",
    "    st.pyplot(calplot.calplot(daily_adds, cmap = cmap, figsize = (20, 7)))\n",
    "    return None\n",
    "\n",
    "def pipeline_date_added_calendar(playlist_df):\n",
    "    \"\"\"\n",
    "\n",
    "    :param playlist_df:\n",
    "    :return:\n",
    "    \"\"\"\n",
    "    daily_adds = make_daily_add_series(playlist_df)\n",
    "    plot_date_added_calendar(daily_adds)\n",
    "    return None"
   ],
   "metadata": {
    "collapsed": false,
    "pycharm": {
     "name": "#%%\n"
    }
   }
  },
  {
   "cell_type": "code",
   "execution_count": null,
   "outputs": [],
   "source": [
    "pipeline_date_added_calendar(playlist_df)"
   ],
   "metadata": {
    "collapsed": false,
    "pycharm": {
     "name": "#%%\n"
    }
   }
  },
  {
   "cell_type": "markdown",
   "source": [
    "## Song Features"
   ],
   "metadata": {
    "collapsed": false,
    "pycharm": {
     "name": "#%% md\n"
    }
   }
  },
  {
   "cell_type": "code",
   "execution_count": null,
   "outputs": [],
   "source": [
    "features = list()\n",
    "for n, chunk_series in playlist_df.groupby(np.arange(len(playlist_df)) // 100)['id']:\n",
    "    features += sp.audio_features([*map(str, chunk_series)])\n",
    "\n",
    "features_df = pd.DataFrame.from_dict(filter(None, features))\n",
    "\n",
    "tracks_with_features_df = playlist_df.merge(features_df, on = ['id'], how = 'inner')"
   ],
   "metadata": {
    "collapsed": false,
    "pycharm": {
     "name": "#%%\n"
    }
   }
  },
  {
   "cell_type": "code",
   "execution_count": null,
   "outputs": [],
   "source": [
    "import plotly.graph_objects as go\n",
    "\n",
    "\n",
    "def make_playlist_track_with_featured_df(playlist_df):\n",
    "    \"\"\"\n",
    "\n",
    "    :return:\n",
    "    \"\"\"\n",
    "    features = list()\n",
    "    for n, chunk_series in playlist_df.groupby(np.arange(len(playlist_df)) // 100)['id']:\n",
    "        features += sp.audio_features([*map(str, chunk_series)])\n",
    "    features_df = pd.DataFrame.from_dict(filter(None, features))\n",
    "    tracks_with_features_df = playlist_df.merge(features_df, on = ['id'], how = 'inner')\n",
    "    return tracks_with_features_df\n",
    "\n",
    "def get_xy_axis_and_data(tracks_with_features_df, yaxis, customdata, xaxis=None):\n",
    "    \"\"\"\n",
    "\n",
    "    :param tracks_with_features_df:\n",
    "    :param axis:\n",
    "    :param yaxis:\n",
    "    :param customdata:\n",
    "    :return:\n",
    "    \"\"\"\n",
    "    if xaxis is None:\n",
    "        x_axis = list(tracks_with_features_df.index)\n",
    "    else:\n",
    "        x_axis = list(tracks_with_features_df[xaxis])\n",
    "    y_axis = list(tracks_with_features_df[yaxis])\n",
    "    customdata_list = list(tracks_with_features_df[customdata])\n",
    "    return x_axis, y_axis, customdata_list\n",
    "\n",
    "def plot_scatter(x_axis, y_axis, customdata_list):\n",
    "    \"\"\"\n",
    "\n",
    "    :param x_axis:\n",
    "    :param y_axis:\n",
    "    :param customdata_list:\n",
    "    :return:\n",
    "    \"\"\"\n",
    "    fig = go.Figure()\n",
    "    fig.add_trace(go.Scatter(x=x_axis, y=y_axis, mode='markers', name='markers',\n",
    "                             hovertext=customdata_list, hoverlabel=dict(namelength=0), hovertemplate='%{hovertext}<br>Energy: %{y}<br>',\n",
    "                             marker = dict(size = 8, color = y_axis, colorscale = 'algae', opacity=0.8)))\n",
    "    fig.update_layout(width = 800, height = 400, margin = dict(l = 50, r = 50, b = 50, t = 50, pad = 4), template = \"plotly_dark\")\n",
    "    fig.update_xaxes(showgrid=False, zeroline=False)\n",
    "    fig.update_yaxes(showgrid=False, zeroline=False)\n",
    "    fig.show()\n",
    "    return None\n",
    "\n",
    "def pipeline_plot_feature(playlist_df, yaxis, customdata, xaxis=None):\n",
    "    \"\"\"\n",
    "\n",
    "    :param playlist_df:\n",
    "    :param yaxis:\n",
    "    :param customdata:\n",
    "    :param xaxis:\n",
    "    :return:\n",
    "    \"\"\"\n",
    "    tracks_with_features_df = make_playlist_track_with_featured_df(playlist_df)\n",
    "    x_axis, y_axis, customdata_list = get_xy_axis_and_data(tracks_with_features_df, yaxis, customdata, xaxis)\n",
    "    plot_scatter(x_axis, y_axis, customdata_list)\n",
    "    return None"
   ],
   "metadata": {
    "collapsed": false,
    "pycharm": {
     "name": "#%%\n"
    }
   }
  },
  {
   "cell_type": "code",
   "execution_count": null,
   "outputs": [],
   "source": [
    "pipeline_plot_feature(playlist_df, \"energy\", \"name\", xaxis=None)"
   ],
   "metadata": {
    "collapsed": false,
    "pycharm": {
     "name": "#%%\n"
    }
   }
  },
  {
   "cell_type": "markdown",
   "source": [
    "## Playlist Length (Time)"
   ],
   "metadata": {
    "collapsed": false,
    "pycharm": {
     "name": "#%% md\n"
    }
   }
  },
  {
   "cell_type": "code",
   "execution_count": null,
   "outputs": [],
   "source": [
    "def convertMillis(millis):\n",
    "    \"\"\"\n",
    "    Function returns seconds, minutes and hours with millisecond input\n",
    "    :param millis:\n",
    "    :return:\n",
    "    \"\"\"\n",
    "    seconds=(millis/1000)%60\n",
    "    minutes=(millis/(1000*60))%60\n",
    "    hours=(millis/(1000*60*60))%24\n",
    "    return seconds, minutes, hours\n",
    "\n",
    "def get_hour_minutes(minutes, hours):\n",
    "    \"\"\"\n",
    "\n",
    "    :param minutes:\n",
    "    :param hours:\n",
    "    :return:\n",
    "    \"\"\"\n",
    "    str_minutes = str(minutes)[0]\n",
    "    str_hours = str(hours)[0]\n",
    "    return str_minutes, str_hours\n",
    "\n",
    "def pipeline_hour_min_length_of_playlist(features_df):\n",
    "    \"\"\"\n",
    "\n",
    "    :return:\n",
    "    \"\"\"\n",
    "    millis = features_df[\"duration_ms\"].sum()\n",
    "    seconds, minutes, hours = convertMillis(millis)\n",
    "    str_minutes, str_hours = get_hour_minutes(minutes, hours)\n",
    "    return str_minutes, str_hours"
   ],
   "metadata": {
    "collapsed": false,
    "pycharm": {
     "name": "#%%\n"
    }
   }
  },
  {
   "cell_type": "code",
   "execution_count": null,
   "outputs": [],
   "source": [
    "pipeline_hour_min_length_of_playlist(features_df)"
   ],
   "metadata": {
    "collapsed": false,
    "pycharm": {
     "name": "#%%\n"
    }
   }
  },
  {
   "cell_type": "markdown",
   "source": [
    "## Artist Count"
   ],
   "metadata": {
    "collapsed": false,
    "pycharm": {
     "name": "#%% md\n"
    }
   }
  },
  {
   "cell_type": "code",
   "execution_count": null,
   "outputs": [],
   "source": [
    "artist_count = playlist_df.groupby(\"artist\").count()[\"name\"].reset_index().sort_values(\"name\", ascending=True)"
   ],
   "metadata": {
    "collapsed": false,
    "pycharm": {
     "name": "#%%\n"
    }
   }
  },
  {
   "cell_type": "code",
   "execution_count": null,
   "outputs": [],
   "source": [
    "import plotly.graph_objects as go\n",
    "\n",
    "fig = go.Figure(go.Bar(\n",
    "    x=artist_count[\"name\"],\n",
    "    y=artist_count[\"artist\"],\n",
    "    orientation='h', marker_color=\"#1DB954\"))\n",
    "fig.update_layout(width = 800, height = 400, margin = dict(l = 50, r = 50, b = 50, t = 50, pad = 4), template = \"plotly_dark\")\n",
    "fig.update_xaxes(showgrid=False, zeroline=False)\n",
    "fig.update_yaxes(showgrid=False, zeroline=False)\n",
    "fig.show()"
   ],
   "metadata": {
    "collapsed": false,
    "pycharm": {
     "name": "#%%\n"
    }
   }
  },
  {
   "cell_type": "code",
   "execution_count": null,
   "outputs": [],
   "source": [
    "import plotly.graph_objects as go\n",
    "\n",
    "\n",
    "def make_artist_count_df(playlist_df):\n",
    "    \"\"\"\n",
    "    Function returns a dataframe with the artist name and count of times in playlist\n",
    "    :return:\n",
    "    \"\"\"\n",
    "    artist_count = playlist_df.groupby(\"artist\").count()[\"name\"].reset_index().sort_values(\"name\", ascending=True)\n",
    "    return artist_count\n",
    "\n",
    "def make_artist_count_plot(artist_count):\n",
    "    \"\"\"\n",
    "    Function plots the times an artist occurs in a playlist\n",
    "    :param artist_count:\n",
    "    :return:\n",
    "    \"\"\"\n",
    "    fig = go.Figure(go.Bar(\n",
    "        x=artist_count[\"name\"],\n",
    "        y=artist_count[\"artist\"],\n",
    "        orientation='h', marker_color=\"#1DB954\"))\n",
    "    fig.update_layout(width = 800, height = 400, margin = dict(l = 50, r = 50, b = 50, t = 50, pad = 4), template = \"plotly_dark\")\n",
    "    fig.update_xaxes(showgrid=False, zeroline=False)\n",
    "    fig.update_yaxes(showgrid=False, zeroline=False)\n",
    "    st.plotly_chart(fig, use_container_width=True)\n",
    "    return None\n",
    "\n",
    "def pipeline_artist_count_plot(playlist_df):\n",
    "    \"\"\"\n",
    "    Function pipelines the workflow required to plot artist count\n",
    "    :param playlist_df:\n",
    "    :return:\n",
    "    \"\"\"\n",
    "    artist_count = make_artist_count_df(playlist_df)\n",
    "    make_artist_count_plot(artist_count)\n",
    "    return None"
   ],
   "metadata": {
    "collapsed": false,
    "pycharm": {
     "name": "#%%\n"
    }
   }
  },
  {
   "cell_type": "code",
   "execution_count": null,
   "outputs": [],
   "source": [
    "pipeline_artist_count_plot(playlist_df)"
   ],
   "metadata": {
    "collapsed": false,
    "pycharm": {
     "name": "#%%\n"
    }
   }
  },
  {
   "cell_type": "code",
   "execution_count": null,
   "outputs": [],
   "source": [],
   "metadata": {
    "collapsed": false,
    "pycharm": {
     "name": "#%%\n"
    }
   }
  }
 ],
 "metadata": {
  "kernelspec": {
   "name": "python38032bit30d325bc9a1c41a5b32130cf4756f89a",
   "language": "python",
   "display_name": "Python 3.8.0 32-bit"
  },
  "language_info": {
   "codemirror_mode": {
    "name": "ipython",
    "version": 2
   },
   "file_extension": ".py",
   "mimetype": "text/x-python",
   "name": "python",
   "nbconvert_exporter": "python",
   "pygments_lexer": "ipython2",
   "version": "2.7.6"
  }
 },
 "nbformat": 4,
 "nbformat_minor": 0
}