{
 "cells": [
  {
   "cell_type": "markdown",
   "metadata": {
    "pycharm": {
     "name": "#%% md\n"
    }
   },
   "source": [
    "# Spotify Compare\n",
    "I want to build something so that I'll be able to compare and contrast my Spotify playlists. My own and my friends. I will first build out the logic, then I will be able to build out a UI where users can drop their own playlists"
   ]
  },
  {
   "cell_type": "code",
   "execution_count": 1,
   "metadata": {
    "collapsed": true
   },
   "outputs": [
    {
     "ename": "ModuleNotFoundError",
     "evalue": "No module named 'pandas'",
     "output_type": "error",
     "traceback": [
      "\u001b[1;31m---------------------------------------------------------------------------\u001b[0m",
      "\u001b[1;31mModuleNotFoundError\u001b[0m                       Traceback (most recent call last)",
      "\u001b[1;32m~\\AppData\\Local\\Temp/ipykernel_16652/209249270.py\u001b[0m in \u001b[0;36m<module>\u001b[1;34m\u001b[0m\n\u001b[1;32m----> 1\u001b[1;33m \u001b[1;32mimport\u001b[0m \u001b[0mpandas\u001b[0m \u001b[1;32mas\u001b[0m \u001b[0mpd\u001b[0m\u001b[1;33m\u001b[0m\u001b[1;33m\u001b[0m\u001b[0m\n\u001b[0m\u001b[0;32m      2\u001b[0m \u001b[1;32mimport\u001b[0m \u001b[0mspotipy\u001b[0m\u001b[1;33m\u001b[0m\u001b[1;33m\u001b[0m\u001b[0m\n\u001b[0;32m      3\u001b[0m \u001b[1;32mimport\u001b[0m \u001b[0mspotipy\u001b[0m\u001b[1;33m.\u001b[0m\u001b[0mutil\u001b[0m \u001b[1;32mas\u001b[0m \u001b[0mutil\u001b[0m\u001b[1;33m\u001b[0m\u001b[1;33m\u001b[0m\u001b[0m\n\u001b[0;32m      4\u001b[0m \u001b[1;32mfrom\u001b[0m \u001b[0mdateutil\u001b[0m\u001b[1;33m.\u001b[0m\u001b[0mparser\u001b[0m \u001b[1;32mimport\u001b[0m \u001b[0mparse\u001b[0m \u001b[1;32mas\u001b[0m \u001b[0mparse_date\u001b[0m\u001b[1;33m\u001b[0m\u001b[1;33m\u001b[0m\u001b[0m\n",
      "\u001b[1;31mModuleNotFoundError\u001b[0m: No module named 'pandas'"
     ]
    }
   ],
   "source": [
    "import pandas as pd\n",
    "import spotipy\n",
    "import spotipy.util as util\n",
    "from dateutil.parser import parse as parse_date"
   ]
  },
  {
   "cell_type": "code",
   "execution_count": 1,
   "metadata": {
    "pycharm": {
     "name": "#%%\n"
    }
   },
   "outputs": [
    {
     "data": {
      "text/plain": [
       "('64bit', 'WindowsPE')"
      ]
     },
     "execution_count": 1,
     "metadata": {},
     "output_type": "execute_result"
    }
   ],
   "source": [
    "import platform\n",
    "platform.architecture()"
   ]
  },
  {
   "cell_type": "code",
   "execution_count": 117,
   "metadata": {
    "pycharm": {
     "name": "#%%\n"
    }
   },
   "outputs": [],
   "source": [
    "api_creds = pd.read_csv(\"../data/external/api_keys.csv\", header=None)\n",
    "# api_creds"
   ]
  },
  {
   "cell_type": "code",
   "execution_count": 118,
   "metadata": {
    "pycharm": {
     "name": "#%%\n"
    }
   },
   "outputs": [],
   "source": [
    "# Spotify API token\n",
    "user_id = api_creds[1].iloc[0]\n",
    "client_id = api_creds[1].iloc[1]\n",
    "client_secret = api_creds[1].iloc[2]\n",
    "\n",
    "# All scope\n",
    "scope = 'ugc-image-upload user-read-playback-state streaming user-read-email playlist-read-collaborative \\\n",
    "user-modify-playback-state user-read-private playlist-modify-public user-library-modify user-top-read \\\n",
    "user-read-playback-position user-read-currently-playing playlist-read-private user-follow-read \\\n",
    "app-remote-control user-read-recently-played playlist-modify-private user-follow-modify user-library-read'\n",
    "\n",
    "token = util.prompt_for_user_token(\n",
    "    user_id,\n",
    "    scope,\n",
    "    client_id = client_id,\n",
    "    client_secret = client_secret,\n",
    "    redirect_uri='http://127.0.0.1:9090')\n",
    "\n",
    "sp = spotipy.Spotify(auth = token)"
   ]
  },
  {
   "cell_type": "code",
   "execution_count": 85,
   "metadata": {
    "pycharm": {
     "name": "#%%\n"
    }
   },
   "outputs": [
    {
     "name": "stdout",
     "output_type": "stream",
     "text": [
      "Lucifer - JAY-Z\n",
      "What's The Difference - Dr. Dre\n",
      "Green Tomato Coupe - Niko Is\n",
      "Sweeterman - Ramriddlz\n",
      "The Message - Nas\n",
      "Z Look Jamaican - Kodak Black\n",
      "Paranoia - Chance the Rapper\n",
      "Marvins Room - Drake\n",
      "Street Talkin' - Slick Rick\n",
      "Hail Mary - 2Pac\n",
      "Poppin' Tags - JAY-Z\n",
      "Falling - Alfa Mist\n",
      "KYWK - IYAMAH\n",
      "7am On Bridle Path - Drake\n",
      "Fireman (Flip) - CoryaYo\n",
      "I Think They Like Me - Remix - Dem Franchize Boyz\n",
      "Young G's (feat. The Notorious B.I.G. & Jay-Z) - Diddy\n",
      "LoveKills!!! - 9th Wonder\n",
      "Why You Wanna - T.I.\n",
      "I'm The Man - J. Cole\n"
     ]
    }
   ],
   "source": [
    "results = sp.current_user_saved_tracks()\n",
    "for item in results['items']:\n",
    "    track = item['track']\n",
    "    print(track['name'] + ' - ' + track['artists'][0]['name'])"
   ]
  },
  {
   "cell_type": "code",
   "execution_count": 86,
   "metadata": {
    "pycharm": {
     "name": "#%%\n"
    }
   },
   "outputs": [],
   "source": [
    "playlist_id = '37i9dQZF1E9Z5O3LQ5a9Hx'\n",
    "\n",
    "playlist = sp.user_playlist(user_id, playlist_id)\n",
    "tracks = playlist['tracks']['items']\n",
    "next_uri = playlist['tracks']['next']"
   ]
  },
  {
   "cell_type": "code",
   "execution_count": 87,
   "metadata": {
    "pycharm": {
     "name": "#%%\n"
    }
   },
   "outputs": [],
   "source": [
    "tracks_df = pd.DataFrame([(track['track']['id'], track['track']['artists'][0]['name'], track['track']['name'],\n",
    "                           parse_date(track['track']['album']['release_date']) if track['track']['album']['release_date']\n",
    "                               else None,\n",
    "                           parse_date(track['added_at']))\n",
    "                          for track in playlist['tracks']['items']], columns=['id', 'artist', 'name', 'release_date', 'added_at'] )"
   ]
  },
  {
   "cell_type": "markdown",
   "metadata": {
    "pycharm": {
     "name": "#%% md\n"
    }
   },
   "source": [
    "## Artists in Playlist"
   ]
  },
  {
   "cell_type": "code",
   "execution_count": 88,
   "metadata": {
    "pycharm": {
     "name": "#%%\n"
    }
   },
   "outputs": [],
   "source": [
    "ARTIST = \"artist\"\n",
    "ID = \"id\"\n",
    "SONGS = \"songs\"\n",
    "\n",
    "def make_artist_in_playlist_count_df(playlist_df):\n",
    "    \"\"\"\n",
    "    Function makes a dataframe showing the amount of songs each artist in the playlist has in the playlist\n",
    "    :param playlist_df: dataframe of the playlist\n",
    "    :return: artist count dataframe\n",
    "    \"\"\"\n",
    "    artist_count = playlist_df.groupby(ARTIST).count()[ID].reset_index().sort_values(ID, ascending=False).rename(columns={ID: SONGS})\n",
    "    artist_count.set_index(ARTIST, inplace=True)\n",
    "    return artist_count"
   ]
  },
  {
   "cell_type": "code",
   "execution_count": 89,
   "metadata": {
    "pycharm": {
     "name": "#%%\n"
    }
   },
   "outputs": [
    {
     "data": {
      "text/html": [
       "<div>\n",
       "<style scoped>\n",
       "    .dataframe tbody tr th:only-of-type {\n",
       "        vertical-align: middle;\n",
       "    }\n",
       "\n",
       "    .dataframe tbody tr th {\n",
       "        vertical-align: top;\n",
       "    }\n",
       "\n",
       "    .dataframe thead th {\n",
       "        text-align: right;\n",
       "    }\n",
       "</style>\n",
       "<table border=\"1\" class=\"dataframe\">\n",
       "  <thead>\n",
       "    <tr style=\"text-align: right;\">\n",
       "      <th></th>\n",
       "      <th>songs</th>\n",
       "    </tr>\n",
       "    <tr>\n",
       "      <th>artist</th>\n",
       "      <th></th>\n",
       "    </tr>\n",
       "  </thead>\n",
       "  <tbody>\n",
       "    <tr>\n",
       "      <th>Drake</th>\n",
       "      <td>6</td>\n",
       "    </tr>\n",
       "    <tr>\n",
       "      <th>Kendrick Lamar</th>\n",
       "      <td>5</td>\n",
       "    </tr>\n",
       "    <tr>\n",
       "      <th>2 Chainz</th>\n",
       "      <td>5</td>\n",
       "    </tr>\n",
       "    <tr>\n",
       "      <th>A$AP Mob</th>\n",
       "      <td>4</td>\n",
       "    </tr>\n",
       "    <tr>\n",
       "      <th>JAY-Z</th>\n",
       "      <td>4</td>\n",
       "    </tr>\n",
       "    <tr>\n",
       "      <th>Travis Scott</th>\n",
       "      <td>3</td>\n",
       "    </tr>\n",
       "    <tr>\n",
       "      <th>FKJ</th>\n",
       "      <td>3</td>\n",
       "    </tr>\n",
       "    <tr>\n",
       "      <th>NxWorries</th>\n",
       "      <td>3</td>\n",
       "    </tr>\n",
       "    <tr>\n",
       "      <th>Isaiah Rashad</th>\n",
       "      <td>3</td>\n",
       "    </tr>\n",
       "    <tr>\n",
       "      <th>Frank Ocean</th>\n",
       "      <td>3</td>\n",
       "    </tr>\n",
       "    <tr>\n",
       "      <th>Ugly God</th>\n",
       "      <td>2</td>\n",
       "    </tr>\n",
       "    <tr>\n",
       "      <th>The Rolling Stones</th>\n",
       "      <td>2</td>\n",
       "    </tr>\n",
       "    <tr>\n",
       "      <th>The Game</th>\n",
       "      <td>2</td>\n",
       "    </tr>\n",
       "    <tr>\n",
       "      <th>T.I.</th>\n",
       "      <td>2</td>\n",
       "    </tr>\n",
       "    <tr>\n",
       "      <th>Nas</th>\n",
       "      <td>2</td>\n",
       "    </tr>\n",
       "    <tr>\n",
       "      <th>GoldLink</th>\n",
       "      <td>2</td>\n",
       "    </tr>\n",
       "    <tr>\n",
       "      <th>Playboi Carti</th>\n",
       "      <td>2</td>\n",
       "    </tr>\n",
       "    <tr>\n",
       "      <th>Young Thug</th>\n",
       "      <td>2</td>\n",
       "    </tr>\n",
       "    <tr>\n",
       "      <th>DMX</th>\n",
       "      <td>2</td>\n",
       "    </tr>\n",
       "    <tr>\n",
       "      <th>Calvin Harris</th>\n",
       "      <td>2</td>\n",
       "    </tr>\n",
       "    <tr>\n",
       "      <th>A$AP Rocky</th>\n",
       "      <td>2</td>\n",
       "    </tr>\n",
       "    <tr>\n",
       "      <th>Baka Not Nice</th>\n",
       "      <td>1</td>\n",
       "    </tr>\n",
       "    <tr>\n",
       "      <th>Rapsody</th>\n",
       "      <td>1</td>\n",
       "    </tr>\n",
       "    <tr>\n",
       "      <th>Rich The Kid</th>\n",
       "      <td>1</td>\n",
       "    </tr>\n",
       "    <tr>\n",
       "      <th>ScHoolboy Q</th>\n",
       "      <td>1</td>\n",
       "    </tr>\n",
       "    <tr>\n",
       "      <th>Shelley FKA DRAM</th>\n",
       "      <td>1</td>\n",
       "    </tr>\n",
       "    <tr>\n",
       "      <th>Smino</th>\n",
       "      <td>1</td>\n",
       "    </tr>\n",
       "    <tr>\n",
       "      <th>Bas</th>\n",
       "      <td>1</td>\n",
       "    </tr>\n",
       "    <tr>\n",
       "      <th>Tay-K</th>\n",
       "      <td>1</td>\n",
       "    </tr>\n",
       "    <tr>\n",
       "      <th>EARTHGANG</th>\n",
       "      <td>1</td>\n",
       "    </tr>\n",
       "    <tr>\n",
       "      <th>Childish Gambino</th>\n",
       "      <td>1</td>\n",
       "    </tr>\n",
       "    <tr>\n",
       "      <th>The Notorious B.I.G.</th>\n",
       "      <td>1</td>\n",
       "    </tr>\n",
       "    <tr>\n",
       "      <th>Aretha Franklin</th>\n",
       "      <td>1</td>\n",
       "    </tr>\n",
       "    <tr>\n",
       "      <th>Thundercat</th>\n",
       "      <td>1</td>\n",
       "    </tr>\n",
       "    <tr>\n",
       "      <th>Aminé</th>\n",
       "      <td>1</td>\n",
       "    </tr>\n",
       "    <tr>\n",
       "      <th>UGK</th>\n",
       "      <td>1</td>\n",
       "    </tr>\n",
       "    <tr>\n",
       "      <th>Warm Brew</th>\n",
       "      <td>1</td>\n",
       "    </tr>\n",
       "    <tr>\n",
       "      <th>Young Money</th>\n",
       "      <td>1</td>\n",
       "    </tr>\n",
       "    <tr>\n",
       "      <th>Pink Floyd</th>\n",
       "      <td>1</td>\n",
       "    </tr>\n",
       "    <tr>\n",
       "      <th>Neil Young</th>\n",
       "      <td>1</td>\n",
       "    </tr>\n",
       "    <tr>\n",
       "      <th>Felly</th>\n",
       "      <td>1</td>\n",
       "    </tr>\n",
       "    <tr>\n",
       "      <th>Common</th>\n",
       "      <td>1</td>\n",
       "    </tr>\n",
       "    <tr>\n",
       "      <th>Dead Prez</th>\n",
       "      <td>1</td>\n",
       "    </tr>\n",
       "    <tr>\n",
       "      <th>Future</th>\n",
       "      <td>1</td>\n",
       "    </tr>\n",
       "    <tr>\n",
       "      <th>Gang Starr</th>\n",
       "      <td>1</td>\n",
       "    </tr>\n",
       "    <tr>\n",
       "      <th>Geto Boys</th>\n",
       "      <td>1</td>\n",
       "    </tr>\n",
       "    <tr>\n",
       "      <th>Ghostface Killah</th>\n",
       "      <td>1</td>\n",
       "    </tr>\n",
       "    <tr>\n",
       "      <th>Dave</th>\n",
       "      <td>1</td>\n",
       "    </tr>\n",
       "    <tr>\n",
       "      <th>Ice Cube</th>\n",
       "      <td>1</td>\n",
       "    </tr>\n",
       "    <tr>\n",
       "      <th>Darondo</th>\n",
       "      <td>1</td>\n",
       "    </tr>\n",
       "    <tr>\n",
       "      <th>James Vincent McMorrow</th>\n",
       "      <td>1</td>\n",
       "    </tr>\n",
       "    <tr>\n",
       "      <th>6LACK</th>\n",
       "      <td>1</td>\n",
       "    </tr>\n",
       "    <tr>\n",
       "      <th>Craig Mack</th>\n",
       "      <td>1</td>\n",
       "    </tr>\n",
       "    <tr>\n",
       "      <th>Kodak Black</th>\n",
       "      <td>1</td>\n",
       "    </tr>\n",
       "    <tr>\n",
       "      <th>Lil Uzi Vert</th>\n",
       "      <td>1</td>\n",
       "    </tr>\n",
       "    <tr>\n",
       "      <th>Lil Wayne</th>\n",
       "      <td>1</td>\n",
       "    </tr>\n",
       "    <tr>\n",
       "      <th>Lou Reed</th>\n",
       "      <td>1</td>\n",
       "    </tr>\n",
       "    <tr>\n",
       "      <th>Ludacris</th>\n",
       "      <td>1</td>\n",
       "    </tr>\n",
       "    <tr>\n",
       "      <th>MadeinTYO</th>\n",
       "      <td>1</td>\n",
       "    </tr>\n",
       "    <tr>\n",
       "      <th>Kanye West</th>\n",
       "      <td>1</td>\n",
       "    </tr>\n",
       "  </tbody>\n",
       "</table>\n",
       "</div>"
      ],
      "text/plain": [
       "                        songs\n",
       "artist                       \n",
       "Drake                       6\n",
       "Kendrick Lamar              5\n",
       "2 Chainz                    5\n",
       "A$AP Mob                    4\n",
       "JAY-Z                       4\n",
       "Travis Scott                3\n",
       "FKJ                         3\n",
       "NxWorries                   3\n",
       "Isaiah Rashad               3\n",
       "Frank Ocean                 3\n",
       "Ugly God                    2\n",
       "The Rolling Stones          2\n",
       "The Game                    2\n",
       "T.I.                        2\n",
       "Nas                         2\n",
       "GoldLink                    2\n",
       "Playboi Carti               2\n",
       "Young Thug                  2\n",
       "DMX                         2\n",
       "Calvin Harris               2\n",
       "A$AP Rocky                  2\n",
       "Baka Not Nice               1\n",
       "Rapsody                     1\n",
       "Rich The Kid                1\n",
       "ScHoolboy Q                 1\n",
       "Shelley FKA DRAM            1\n",
       "Smino                       1\n",
       "Bas                         1\n",
       "Tay-K                       1\n",
       "EARTHGANG                   1\n",
       "Childish Gambino            1\n",
       "The Notorious B.I.G.        1\n",
       "Aretha Franklin             1\n",
       "Thundercat                  1\n",
       "Aminé                       1\n",
       "UGK                         1\n",
       "Warm Brew                   1\n",
       "Young Money                 1\n",
       "Pink Floyd                  1\n",
       "Neil Young                  1\n",
       "Felly                       1\n",
       "Common                      1\n",
       "Dead Prez                   1\n",
       "Future                      1\n",
       "Gang Starr                  1\n",
       "Geto Boys                   1\n",
       "Ghostface Killah            1\n",
       "Dave                        1\n",
       "Ice Cube                    1\n",
       "Darondo                     1\n",
       "James Vincent McMorrow      1\n",
       "6LACK                       1\n",
       "Craig Mack                  1\n",
       "Kodak Black                 1\n",
       "Lil Uzi Vert                1\n",
       "Lil Wayne                   1\n",
       "Lou Reed                    1\n",
       "Ludacris                    1\n",
       "MadeinTYO                   1\n",
       "Kanye West                  1"
      ]
     },
     "execution_count": 89,
     "metadata": {},
     "output_type": "execute_result"
    }
   ],
   "source": [
    "# Show\n",
    "make_artist_in_playlist_count_df(tracks_df)"
   ]
  },
  {
   "cell_type": "code",
   "execution_count": 173,
   "metadata": {
    "pycharm": {
     "name": "#%%\n"
    }
   },
   "outputs": [],
   "source": [
    "def get_playlist_tracks(username, playlist_id):\n",
    "    \"\"\"\n",
    "    Function returns all songs (JSON) for a playlist. Spotipy returns paginated results of 100 songs and this function filters through all pages\n",
    "    :param username:\n",
    "    :param playlist_id:\n",
    "    :return:\n",
    "    \"\"\"\n",
    "    results = sp.user_playlist_tracks(username,playlist_id)\n",
    "    tracks = results['items']\n",
    "    while results['next']:\n",
    "        results = sp.next(results)\n",
    "        tracks.extend(results['items'])\n",
    "    return tracks\n",
    "\n",
    "def get_playlist_df(playlist_id):\n",
    "    \"\"\"\n",
    "\n",
    "    :param playlist_id:\n",
    "    :return:\n",
    "    \"\"\"\n",
    "    playlist = sp.user_playlist(user_id, playlist_id)\n",
    "    tracks = get_playlist_tracks(user_id, playlist_id)\n",
    "    next_uri = playlist['tracks']['next']\n",
    "    name = playlist['name']\n",
    "    tracks_df = pd.DataFrame([(track['track']['id'], track['track']['name'],\n",
    "                               track[\"track\"][\"artists\"][0][\"id\"], track['track']['artists'][0]['name'],\n",
    "                               track[\"track\"][\"album\"][\"id\"], track['track']['album']['name'],\n",
    "                               track['track']['popularity'],\n",
    "                               parse_date(track['track']['album']['release_date'])\n",
    "                                   if track['track']['album']['release_date'] else None,\n",
    "                               parse_date(track['added_at']))\n",
    "                              for track in tracks],\n",
    "                             columns=['id', 'name', \"artist_id\", 'artist', \"album_id\", 'album', 'track popularity', 'release_date', 'added_at'])\n",
    "    tracks_df['playlist_name'] = name\n",
    "    tracks_df[\"release_year\"] = tracks_df[\"release_date\"].dt.year\n",
    "    image_url = playlist['images'][0]['url']\n",
    "    # image = Image(url = image_url, width =  300)\n",
    "    return tracks_df"
   ]
  },
  {
   "cell_type": "code",
   "execution_count": 174,
   "metadata": {
    "pycharm": {
     "name": "#%%\n"
    }
   },
   "outputs": [
    {
     "data": {
      "text/html": [
       "<div>\n",
       "<style scoped>\n",
       "    .dataframe tbody tr th:only-of-type {\n",
       "        vertical-align: middle;\n",
       "    }\n",
       "\n",
       "    .dataframe tbody tr th {\n",
       "        vertical-align: top;\n",
       "    }\n",
       "\n",
       "    .dataframe thead th {\n",
       "        text-align: right;\n",
       "    }\n",
       "</style>\n",
       "<table border=\"1\" class=\"dataframe\">\n",
       "  <thead>\n",
       "    <tr style=\"text-align: right;\">\n",
       "      <th></th>\n",
       "      <th>id</th>\n",
       "      <th>name</th>\n",
       "      <th>artist_id</th>\n",
       "      <th>artist</th>\n",
       "      <th>album_id</th>\n",
       "      <th>album</th>\n",
       "      <th>track popularity</th>\n",
       "      <th>release_date</th>\n",
       "      <th>added_at</th>\n",
       "      <th>playlist_name</th>\n",
       "      <th>release_year</th>\n",
       "    </tr>\n",
       "  </thead>\n",
       "  <tbody>\n",
       "    <tr>\n",
       "      <th>0</th>\n",
       "      <td>1WIZiOuNO3woKfdlSK2gNn</td>\n",
       "      <td>Transportin'</td>\n",
       "      <td>46SHBwWsqBkxI7EeeBEQG7</td>\n",
       "      <td>Kodak Black</td>\n",
       "      <td>51wp3EOOp2mBIjhZjR7W0i</td>\n",
       "      <td>Project Baby 2: All Grown Up</td>\n",
       "      <td>71</td>\n",
       "      <td>2017-08-18</td>\n",
       "      <td>2017-11-18 00:35:49+00:00</td>\n",
       "      <td>Your Top Songs 2017</td>\n",
       "      <td>2017</td>\n",
       "    </tr>\n",
       "    <tr>\n",
       "      <th>1</th>\n",
       "      <td>5hqh0JUxRShhqdaxu7wlz5</td>\n",
       "      <td>Park</td>\n",
       "      <td>6aaMZ3fcfLv4tEbmY7bjRM</td>\n",
       "      <td>Isaiah Rashad</td>\n",
       "      <td>6jjX8mGrsWtrpYpFhGMrg1</td>\n",
       "      <td>The Sun's Tirade</td>\n",
       "      <td>51</td>\n",
       "      <td>2016-09-02</td>\n",
       "      <td>2017-11-18 00:35:49+00:00</td>\n",
       "      <td>Your Top Songs 2017</td>\n",
       "      <td>2016</td>\n",
       "    </tr>\n",
       "    <tr>\n",
       "      <th>2</th>\n",
       "      <td>2jG6ifTWXk0AvonlgcXGgZ</td>\n",
       "      <td>Portland</td>\n",
       "      <td>3TVXtAsR1Inumwj472S9r4</td>\n",
       "      <td>Drake</td>\n",
       "      <td>7Ix0FS4f1lK42C3rix5rHg</td>\n",
       "      <td>More Life</td>\n",
       "      <td>0</td>\n",
       "      <td>2017-03-18</td>\n",
       "      <td>2017-11-18 00:35:49+00:00</td>\n",
       "      <td>Your Top Songs 2017</td>\n",
       "      <td>2017</td>\n",
       "    </tr>\n",
       "    <tr>\n",
       "      <th>3</th>\n",
       "      <td>02hNDxtMMTpq72rdp1lm6v</td>\n",
       "      <td>4 AM</td>\n",
       "      <td>17lzZA2AlOHwCwFALHttmp</td>\n",
       "      <td>2 Chainz</td>\n",
       "      <td>3DiL3a7eQef1sDc8DMvj50</td>\n",
       "      <td>Pretty Girls Like Trap Music</td>\n",
       "      <td>0</td>\n",
       "      <td>2017-06-16</td>\n",
       "      <td>2017-11-18 00:35:49+00:00</td>\n",
       "      <td>Your Top Songs 2017</td>\n",
       "      <td>2017</td>\n",
       "    </tr>\n",
       "    <tr>\n",
       "      <th>4</th>\n",
       "      <td>564oa00vY05d1uYnTEAAmE</td>\n",
       "      <td>Herside Story</td>\n",
       "      <td>5XenQ7XfcvQdfIbpLEFaKQ</td>\n",
       "      <td>GoldLink</td>\n",
       "      <td>18JrBX1QkpnUSJF3oxX6RX</td>\n",
       "      <td>At What Cost</td>\n",
       "      <td>64</td>\n",
       "      <td>2017-03-24</td>\n",
       "      <td>2017-11-18 00:35:49+00:00</td>\n",
       "      <td>Your Top Songs 2017</td>\n",
       "      <td>2017</td>\n",
       "    </tr>\n",
       "    <tr>\n",
       "      <th>...</th>\n",
       "      <td>...</td>\n",
       "      <td>...</td>\n",
       "      <td>...</td>\n",
       "      <td>...</td>\n",
       "      <td>...</td>\n",
       "      <td>...</td>\n",
       "      <td>...</td>\n",
       "      <td>...</td>\n",
       "      <td>...</td>\n",
       "      <td>...</td>\n",
       "      <td>...</td>\n",
       "    </tr>\n",
       "    <tr>\n",
       "      <th>95</th>\n",
       "      <td>4heC6SnTBxTZZDef4AIBOk</td>\n",
       "      <td>Unbelievable - 2005 Remaster</td>\n",
       "      <td>5me0Irg2ANcsgc93uaYrpb</td>\n",
       "      <td>The Notorious B.I.G.</td>\n",
       "      <td>2HTbQ0RHwukKVXAlTmCZP2</td>\n",
       "      <td>Ready to Die (The Remaster)</td>\n",
       "      <td>51</td>\n",
       "      <td>1994-09-13</td>\n",
       "      <td>2017-11-18 00:35:49+00:00</td>\n",
       "      <td>Your Top Songs 2017</td>\n",
       "      <td>1994</td>\n",
       "    </tr>\n",
       "    <tr>\n",
       "      <th>96</th>\n",
       "      <td>1QuYPKVcCOiwA9P4LKein0</td>\n",
       "      <td>Undisputed</td>\n",
       "      <td>3ipn9JLAPI5GUEo4y4jcoi</td>\n",
       "      <td>Ludacris</td>\n",
       "      <td>10kpIdgJcsplJG1lwt8aZQ</td>\n",
       "      <td>Theater Of The Mind (UK Version)</td>\n",
       "      <td>0</td>\n",
       "      <td>2008-01-01</td>\n",
       "      <td>2017-11-18 00:35:49+00:00</td>\n",
       "      <td>Your Top Songs 2017</td>\n",
       "      <td>2008</td>\n",
       "    </tr>\n",
       "    <tr>\n",
       "      <th>97</th>\n",
       "      <td>3YYteeLZAPGp0jdXITBg3n</td>\n",
       "      <td>The Food</td>\n",
       "      <td>2GHclqNVjqGuiE5mA7BEoc</td>\n",
       "      <td>Common</td>\n",
       "      <td>4oVpqMqd0A1GPW3RkypqXw</td>\n",
       "      <td>Be</td>\n",
       "      <td>0</td>\n",
       "      <td>2005-05-24</td>\n",
       "      <td>2017-11-18 00:35:49+00:00</td>\n",
       "      <td>Your Top Songs 2017</td>\n",
       "      <td>2005</td>\n",
       "    </tr>\n",
       "    <tr>\n",
       "      <th>98</th>\n",
       "      <td>4rujbg8RNFitwtkv1qEq4K</td>\n",
       "      <td>Back To Back</td>\n",
       "      <td>3TVXtAsR1Inumwj472S9r4</td>\n",
       "      <td>Drake</td>\n",
       "      <td>2ekw2pa8kX7A9yDaCroXXD</td>\n",
       "      <td>Back To Back</td>\n",
       "      <td>0</td>\n",
       "      <td>2015-07-31</td>\n",
       "      <td>2017-11-18 00:35:49+00:00</td>\n",
       "      <td>Your Top Songs 2017</td>\n",
       "      <td>2015</td>\n",
       "    </tr>\n",
       "    <tr>\n",
       "      <th>99</th>\n",
       "      <td>6fUHMhwKBSmetq2T1PvCKK</td>\n",
       "      <td>Liquor Sto'</td>\n",
       "      <td>5MbNzCW3qokGyoo9giHA3V</td>\n",
       "      <td>EARTHGANG</td>\n",
       "      <td>3bYMVNcOHLDv2z6yWEl3yb</td>\n",
       "      <td>Strays with Rabies</td>\n",
       "      <td>46</td>\n",
       "      <td>2015-11-05</td>\n",
       "      <td>2017-11-18 00:35:49+00:00</td>\n",
       "      <td>Your Top Songs 2017</td>\n",
       "      <td>2015</td>\n",
       "    </tr>\n",
       "  </tbody>\n",
       "</table>\n",
       "<p>100 rows × 11 columns</p>\n",
       "</div>"
      ],
      "text/plain": [
       "                        id                          name  \\\n",
       "0   1WIZiOuNO3woKfdlSK2gNn                  Transportin'   \n",
       "1   5hqh0JUxRShhqdaxu7wlz5                          Park   \n",
       "2   2jG6ifTWXk0AvonlgcXGgZ                      Portland   \n",
       "3   02hNDxtMMTpq72rdp1lm6v                          4 AM   \n",
       "4   564oa00vY05d1uYnTEAAmE                 Herside Story   \n",
       "..                     ...                           ...   \n",
       "95  4heC6SnTBxTZZDef4AIBOk  Unbelievable - 2005 Remaster   \n",
       "96  1QuYPKVcCOiwA9P4LKein0                    Undisputed   \n",
       "97  3YYteeLZAPGp0jdXITBg3n                      The Food   \n",
       "98  4rujbg8RNFitwtkv1qEq4K                  Back To Back   \n",
       "99  6fUHMhwKBSmetq2T1PvCKK                   Liquor Sto'   \n",
       "\n",
       "                 artist_id                artist                album_id  \\\n",
       "0   46SHBwWsqBkxI7EeeBEQG7           Kodak Black  51wp3EOOp2mBIjhZjR7W0i   \n",
       "1   6aaMZ3fcfLv4tEbmY7bjRM         Isaiah Rashad  6jjX8mGrsWtrpYpFhGMrg1   \n",
       "2   3TVXtAsR1Inumwj472S9r4                 Drake  7Ix0FS4f1lK42C3rix5rHg   \n",
       "3   17lzZA2AlOHwCwFALHttmp              2 Chainz  3DiL3a7eQef1sDc8DMvj50   \n",
       "4   5XenQ7XfcvQdfIbpLEFaKQ              GoldLink  18JrBX1QkpnUSJF3oxX6RX   \n",
       "..                     ...                   ...                     ...   \n",
       "95  5me0Irg2ANcsgc93uaYrpb  The Notorious B.I.G.  2HTbQ0RHwukKVXAlTmCZP2   \n",
       "96  3ipn9JLAPI5GUEo4y4jcoi              Ludacris  10kpIdgJcsplJG1lwt8aZQ   \n",
       "97  2GHclqNVjqGuiE5mA7BEoc                Common  4oVpqMqd0A1GPW3RkypqXw   \n",
       "98  3TVXtAsR1Inumwj472S9r4                 Drake  2ekw2pa8kX7A9yDaCroXXD   \n",
       "99  5MbNzCW3qokGyoo9giHA3V             EARTHGANG  3bYMVNcOHLDv2z6yWEl3yb   \n",
       "\n",
       "                               album  track popularity release_date  \\\n",
       "0       Project Baby 2: All Grown Up                71   2017-08-18   \n",
       "1                   The Sun's Tirade                51   2016-09-02   \n",
       "2                          More Life                 0   2017-03-18   \n",
       "3       Pretty Girls Like Trap Music                 0   2017-06-16   \n",
       "4                       At What Cost                64   2017-03-24   \n",
       "..                               ...               ...          ...   \n",
       "95       Ready to Die (The Remaster)                51   1994-09-13   \n",
       "96  Theater Of The Mind (UK Version)                 0   2008-01-01   \n",
       "97                                Be                 0   2005-05-24   \n",
       "98                      Back To Back                 0   2015-07-31   \n",
       "99                Strays with Rabies                46   2015-11-05   \n",
       "\n",
       "                    added_at        playlist_name  release_year  \n",
       "0  2017-11-18 00:35:49+00:00  Your Top Songs 2017          2017  \n",
       "1  2017-11-18 00:35:49+00:00  Your Top Songs 2017          2016  \n",
       "2  2017-11-18 00:35:49+00:00  Your Top Songs 2017          2017  \n",
       "3  2017-11-18 00:35:49+00:00  Your Top Songs 2017          2017  \n",
       "4  2017-11-18 00:35:49+00:00  Your Top Songs 2017          2017  \n",
       "..                       ...                  ...           ...  \n",
       "95 2017-11-18 00:35:49+00:00  Your Top Songs 2017          1994  \n",
       "96 2017-11-18 00:35:49+00:00  Your Top Songs 2017          2008  \n",
       "97 2017-11-18 00:35:49+00:00  Your Top Songs 2017          2005  \n",
       "98 2017-11-18 00:35:49+00:00  Your Top Songs 2017          2015  \n",
       "99 2017-11-18 00:35:49+00:00  Your Top Songs 2017          2015  \n",
       "\n",
       "[100 rows x 11 columns]"
      ]
     },
     "execution_count": 174,
     "metadata": {},
     "output_type": "execute_result"
    }
   ],
   "source": [
    "playlist_df_2017 = get_playlist_df(playlist_id)\n",
    "playlist_df_2017[\"release_date\"].dt.year.mean()\n",
    "playlist_df_2017"
   ]
  },
  {
   "cell_type": "markdown",
   "metadata": {},
   "source": [
    "## Count Songs per Decade"
   ]
  },
  {
   "cell_type": "code",
   "execution_count": 10,
   "metadata": {
    "pycharm": {
     "name": "#%%\n"
    }
   },
   "outputs": [
    {
     "data": {
      "text/plain": [
       "2010"
      ]
     },
     "execution_count": 10,
     "metadata": {},
     "output_type": "execute_result"
    }
   ],
   "source": [
    "# Get decade\n",
    "decade = 2011 - (2011%10)\n",
    "decade"
   ]
  },
  {
   "cell_type": "code",
   "execution_count": 11,
   "metadata": {
    "pycharm": {
     "name": "#%%\n"
    }
   },
   "outputs": [],
   "source": [
    "def get_decade_from_year(year):\n",
    "    \"\"\"\n",
    "    Function returns the decade (century + decade) for a provided year\n",
    "    :param year: integer\n",
    "    :return:\n",
    "    \"\"\"\n",
    "    decade = year - (year%10)\n",
    "    return decade"
   ]
  },
  {
   "cell_type": "code",
   "execution_count": 12,
   "metadata": {
    "pycharm": {
     "name": "#%%\n"
    }
   },
   "outputs": [],
   "source": [
    "decade_dict = dict()\n",
    "\n",
    "for index, row in playlist_df_2017.iterrows():\n",
    "    song_decade = get_decade_from_year(row[\"release_year\"])\n",
    "    if song_decade not in decade_dict:\n",
    "        decade_dict[song_decade] = 1\n",
    "    else:\n",
    "        decade_dict[song_decade] += 1\n"
   ]
  },
  {
   "cell_type": "code",
   "execution_count": 13,
   "metadata": {
    "pycharm": {
     "name": "#%%\n"
    }
   },
   "outputs": [
    {
     "data": {
      "text/plain": [
       "{2010: 76, 1990: 9, 2000: 11, 1970: 3, 1960: 1}"
      ]
     },
     "execution_count": 13,
     "metadata": {},
     "output_type": "execute_result"
    }
   ],
   "source": [
    "decade_dict"
   ]
  },
  {
   "cell_type": "code",
   "execution_count": 14,
   "metadata": {
    "pycharm": {
     "name": "#%%\n"
    }
   },
   "outputs": [],
   "source": [
    "# Function\n",
    "COLUMN_RELEASE_YEAR = \"release_year\"\n",
    "\n",
    "def make_song_decade_playlist_dict(playlist_dataframe):\n",
    "    \"\"\"\n",
    "    Function counts which decade songs in a playlist (dataframe) are from\n",
    "    :param playlist_dataframe:\n",
    "    :return: dictionary counting songs per decade\n",
    "    \"\"\"\n",
    "    decade_dict = dict()\n",
    "    for index, row in playlist_dataframe.iterrows():\n",
    "        song_decade = get_decade_from_year(row[COLUMN_RELEASE_YEAR])\n",
    "        if song_decade not in decade_dict:\n",
    "            decade_dict[song_decade] = 1\n",
    "        else:\n",
    "            decade_dict[song_decade] += 1\n",
    "    return decade_dict"
   ]
  },
  {
   "cell_type": "code",
   "execution_count": 15,
   "metadata": {
    "pycharm": {
     "name": "#%%\n"
    }
   },
   "outputs": [
    {
     "data": {
      "text/plain": [
       "{2010: 76, 1990: 9, 2000: 11, 1970: 3, 1960: 1}"
      ]
     },
     "execution_count": 15,
     "metadata": {},
     "output_type": "execute_result"
    }
   ],
   "source": [
    "make_song_decade_playlist_dict(playlist_df_2017)"
   ]
  },
  {
   "cell_type": "code",
   "execution_count": 16,
   "metadata": {
    "pycharm": {
     "name": "#%%\n"
    }
   },
   "outputs": [
    {
     "data": {
      "text/plain": [
       "{2010: 82, 2000: 9, 1990: 9}"
      ]
     },
     "execution_count": 16,
     "metadata": {},
     "output_type": "execute_result"
    }
   ],
   "source": [
    "# Testing with other playlist\n",
    "TOP_2018 = \"37i9dQZF1EjnleGtX5GCCK\"\n",
    "\n",
    "playlist_df_2018 = get_playlist_df(TOP_2018)\n",
    "make_song_decade_playlist_dict(playlist_df_2018)"
   ]
  },
  {
   "cell_type": "markdown",
   "metadata": {},
   "source": [
    "### Get Playlist ID from Link"
   ]
  },
  {
   "cell_type": "code",
   "execution_count": 17,
   "metadata": {
    "pycharm": {
     "name": "#%%\n"
    }
   },
   "outputs": [],
   "source": [
    "def get_playist_id_from_link(playlist_link):\n",
    "    \"\"\"\n",
    "    Function returns the Spotify playlist id from the Spotify generated link\n",
    "    :param playlist_link:\n",
    "    :return:\n",
    "    \"\"\"\n",
    "    id = playlist_link.split(\"/\")[-1].split(\"?\")[0]\n",
    "    return id"
   ]
  },
  {
   "cell_type": "code",
   "execution_count": 18,
   "metadata": {
    "pycharm": {
     "name": "#%%\n"
    }
   },
   "outputs": [
    {
     "data": {
      "text/plain": [
       "'37i9dQZF1EtnQ0jMYBpCho'"
      ]
     },
     "execution_count": 18,
     "metadata": {},
     "output_type": "execute_result"
    }
   ],
   "source": [
    "get_playist_id_from_link(\"https://open.spotify.com/playlist/37i9dQZF1EtnQ0jMYBpCho?si=886b0fd885c7403a\")"
   ]
  },
  {
   "cell_type": "code",
   "execution_count": 19,
   "metadata": {
    "pycharm": {
     "name": "#%%\n"
    }
   },
   "outputs": [
    {
     "data": {
      "text/plain": [
       "{2010: 75, 2000: 20, 1990: 2, 1970: 2, 1960: 1}"
      ]
     },
     "execution_count": 19,
     "metadata": {},
     "output_type": "execute_result"
    }
   ],
   "source": [
    "# 2019\n",
    "id = get_playist_id_from_link(\"https://open.spotify.com/playlist/37i9dQZF1EtnQ0jMYBpCho?si=b9eb3b6491af4f50\")\n",
    "playlist_df = get_playlist_df(id)\n",
    "make_song_decade_playlist_dict(playlist_df)"
   ]
  },
  {
   "cell_type": "code",
   "execution_count": 20,
   "metadata": {
    "pycharm": {
     "name": "#%%\n"
    }
   },
   "outputs": [
    {
     "data": {
      "text/plain": [
       "{2020: 5, 1990: 8, 2000: 9, 1960: 7, 2010: 65, 1970: 6}"
      ]
     },
     "execution_count": 20,
     "metadata": {},
     "output_type": "execute_result"
    }
   ],
   "source": [
    "# 2020\n",
    "id = get_playist_id_from_link(\"https://open.spotify.com/playlist/37i9dQZF1EM216Dz9SwARZ?si=194f693849c14b5c\")\n",
    "playlist_df = get_playlist_df(id)\n",
    "make_song_decade_playlist_dict(playlist_df)"
   ]
  },
  {
   "cell_type": "markdown",
   "metadata": {},
   "source": [
    "### Average Track Popularity"
   ]
  },
  {
   "cell_type": "code",
   "execution_count": 93,
   "metadata": {
    "pycharm": {
     "name": "#%%\n"
    }
   },
   "outputs": [
    {
     "data": {
      "text/html": [
       "<div>\n",
       "<style scoped>\n",
       "    .dataframe tbody tr th:only-of-type {\n",
       "        vertical-align: middle;\n",
       "    }\n",
       "\n",
       "    .dataframe tbody tr th {\n",
       "        vertical-align: top;\n",
       "    }\n",
       "\n",
       "    .dataframe thead th {\n",
       "        text-align: right;\n",
       "    }\n",
       "</style>\n",
       "<table border=\"1\" class=\"dataframe\">\n",
       "  <thead>\n",
       "    <tr style=\"text-align: right;\">\n",
       "      <th></th>\n",
       "      <th>id</th>\n",
       "      <th>name</th>\n",
       "      <th>artist_id</th>\n",
       "      <th>artist</th>\n",
       "      <th>album_id</th>\n",
       "      <th>album</th>\n",
       "      <th>track popularity</th>\n",
       "      <th>release_date</th>\n",
       "      <th>added_at</th>\n",
       "      <th>playlist_name</th>\n",
       "      <th>release_year</th>\n",
       "    </tr>\n",
       "  </thead>\n",
       "  <tbody>\n",
       "    <tr>\n",
       "      <th>0</th>\n",
       "      <td>1WIZiOuNO3woKfdlSK2gNn</td>\n",
       "      <td>Transportin'</td>\n",
       "      <td>46SHBwWsqBkxI7EeeBEQG7</td>\n",
       "      <td>Kodak Black</td>\n",
       "      <td>51wp3EOOp2mBIjhZjR7W0i</td>\n",
       "      <td>Project Baby 2: All Grown Up</td>\n",
       "      <td>71</td>\n",
       "      <td>2017-08-18</td>\n",
       "      <td>2017-11-18 00:35:49+00:00</td>\n",
       "      <td>Your Top Songs 2017</td>\n",
       "      <td>2017</td>\n",
       "    </tr>\n",
       "    <tr>\n",
       "      <th>1</th>\n",
       "      <td>5hqh0JUxRShhqdaxu7wlz5</td>\n",
       "      <td>Park</td>\n",
       "      <td>6aaMZ3fcfLv4tEbmY7bjRM</td>\n",
       "      <td>Isaiah Rashad</td>\n",
       "      <td>6jjX8mGrsWtrpYpFhGMrg1</td>\n",
       "      <td>The Sun's Tirade</td>\n",
       "      <td>51</td>\n",
       "      <td>2016-09-02</td>\n",
       "      <td>2017-11-18 00:35:49+00:00</td>\n",
       "      <td>Your Top Songs 2017</td>\n",
       "      <td>2016</td>\n",
       "    </tr>\n",
       "    <tr>\n",
       "      <th>2</th>\n",
       "      <td>2jG6ifTWXk0AvonlgcXGgZ</td>\n",
       "      <td>Portland</td>\n",
       "      <td>3TVXtAsR1Inumwj472S9r4</td>\n",
       "      <td>Drake</td>\n",
       "      <td>7Ix0FS4f1lK42C3rix5rHg</td>\n",
       "      <td>More Life</td>\n",
       "      <td>0</td>\n",
       "      <td>2017-03-18</td>\n",
       "      <td>2017-11-18 00:35:49+00:00</td>\n",
       "      <td>Your Top Songs 2017</td>\n",
       "      <td>2017</td>\n",
       "    </tr>\n",
       "    <tr>\n",
       "      <th>3</th>\n",
       "      <td>02hNDxtMMTpq72rdp1lm6v</td>\n",
       "      <td>4 AM</td>\n",
       "      <td>17lzZA2AlOHwCwFALHttmp</td>\n",
       "      <td>2 Chainz</td>\n",
       "      <td>3DiL3a7eQef1sDc8DMvj50</td>\n",
       "      <td>Pretty Girls Like Trap Music</td>\n",
       "      <td>0</td>\n",
       "      <td>2017-06-16</td>\n",
       "      <td>2017-11-18 00:35:49+00:00</td>\n",
       "      <td>Your Top Songs 2017</td>\n",
       "      <td>2017</td>\n",
       "    </tr>\n",
       "    <tr>\n",
       "      <th>4</th>\n",
       "      <td>564oa00vY05d1uYnTEAAmE</td>\n",
       "      <td>Herside Story</td>\n",
       "      <td>5XenQ7XfcvQdfIbpLEFaKQ</td>\n",
       "      <td>GoldLink</td>\n",
       "      <td>18JrBX1QkpnUSJF3oxX6RX</td>\n",
       "      <td>At What Cost</td>\n",
       "      <td>64</td>\n",
       "      <td>2017-03-24</td>\n",
       "      <td>2017-11-18 00:35:49+00:00</td>\n",
       "      <td>Your Top Songs 2017</td>\n",
       "      <td>2017</td>\n",
       "    </tr>\n",
       "    <tr>\n",
       "      <th>...</th>\n",
       "      <td>...</td>\n",
       "      <td>...</td>\n",
       "      <td>...</td>\n",
       "      <td>...</td>\n",
       "      <td>...</td>\n",
       "      <td>...</td>\n",
       "      <td>...</td>\n",
       "      <td>...</td>\n",
       "      <td>...</td>\n",
       "      <td>...</td>\n",
       "      <td>...</td>\n",
       "    </tr>\n",
       "    <tr>\n",
       "      <th>95</th>\n",
       "      <td>4heC6SnTBxTZZDef4AIBOk</td>\n",
       "      <td>Unbelievable - 2005 Remaster</td>\n",
       "      <td>5me0Irg2ANcsgc93uaYrpb</td>\n",
       "      <td>The Notorious B.I.G.</td>\n",
       "      <td>2HTbQ0RHwukKVXAlTmCZP2</td>\n",
       "      <td>Ready to Die (The Remaster)</td>\n",
       "      <td>51</td>\n",
       "      <td>1994-09-13</td>\n",
       "      <td>2017-11-18 00:35:49+00:00</td>\n",
       "      <td>Your Top Songs 2017</td>\n",
       "      <td>1994</td>\n",
       "    </tr>\n",
       "    <tr>\n",
       "      <th>96</th>\n",
       "      <td>1QuYPKVcCOiwA9P4LKein0</td>\n",
       "      <td>Undisputed</td>\n",
       "      <td>3ipn9JLAPI5GUEo4y4jcoi</td>\n",
       "      <td>Ludacris</td>\n",
       "      <td>10kpIdgJcsplJG1lwt8aZQ</td>\n",
       "      <td>Theater Of The Mind (UK Version)</td>\n",
       "      <td>0</td>\n",
       "      <td>2008-01-01</td>\n",
       "      <td>2017-11-18 00:35:49+00:00</td>\n",
       "      <td>Your Top Songs 2017</td>\n",
       "      <td>2008</td>\n",
       "    </tr>\n",
       "    <tr>\n",
       "      <th>97</th>\n",
       "      <td>3YYteeLZAPGp0jdXITBg3n</td>\n",
       "      <td>The Food</td>\n",
       "      <td>2GHclqNVjqGuiE5mA7BEoc</td>\n",
       "      <td>Common</td>\n",
       "      <td>4oVpqMqd0A1GPW3RkypqXw</td>\n",
       "      <td>Be</td>\n",
       "      <td>0</td>\n",
       "      <td>2005-05-24</td>\n",
       "      <td>2017-11-18 00:35:49+00:00</td>\n",
       "      <td>Your Top Songs 2017</td>\n",
       "      <td>2005</td>\n",
       "    </tr>\n",
       "    <tr>\n",
       "      <th>98</th>\n",
       "      <td>4rujbg8RNFitwtkv1qEq4K</td>\n",
       "      <td>Back To Back</td>\n",
       "      <td>3TVXtAsR1Inumwj472S9r4</td>\n",
       "      <td>Drake</td>\n",
       "      <td>2ekw2pa8kX7A9yDaCroXXD</td>\n",
       "      <td>Back To Back</td>\n",
       "      <td>0</td>\n",
       "      <td>2015-07-31</td>\n",
       "      <td>2017-11-18 00:35:49+00:00</td>\n",
       "      <td>Your Top Songs 2017</td>\n",
       "      <td>2015</td>\n",
       "    </tr>\n",
       "    <tr>\n",
       "      <th>99</th>\n",
       "      <td>6fUHMhwKBSmetq2T1PvCKK</td>\n",
       "      <td>Liquor Sto'</td>\n",
       "      <td>5MbNzCW3qokGyoo9giHA3V</td>\n",
       "      <td>EARTHGANG</td>\n",
       "      <td>3bYMVNcOHLDv2z6yWEl3yb</td>\n",
       "      <td>Strays with Rabies</td>\n",
       "      <td>46</td>\n",
       "      <td>2015-11-05</td>\n",
       "      <td>2017-11-18 00:35:49+00:00</td>\n",
       "      <td>Your Top Songs 2017</td>\n",
       "      <td>2015</td>\n",
       "    </tr>\n",
       "  </tbody>\n",
       "</table>\n",
       "<p>100 rows × 11 columns</p>\n",
       "</div>"
      ],
      "text/plain": [
       "                        id                          name  \\\n",
       "0   1WIZiOuNO3woKfdlSK2gNn                  Transportin'   \n",
       "1   5hqh0JUxRShhqdaxu7wlz5                          Park   \n",
       "2   2jG6ifTWXk0AvonlgcXGgZ                      Portland   \n",
       "3   02hNDxtMMTpq72rdp1lm6v                          4 AM   \n",
       "4   564oa00vY05d1uYnTEAAmE                 Herside Story   \n",
       "..                     ...                           ...   \n",
       "95  4heC6SnTBxTZZDef4AIBOk  Unbelievable - 2005 Remaster   \n",
       "96  1QuYPKVcCOiwA9P4LKein0                    Undisputed   \n",
       "97  3YYteeLZAPGp0jdXITBg3n                      The Food   \n",
       "98  4rujbg8RNFitwtkv1qEq4K                  Back To Back   \n",
       "99  6fUHMhwKBSmetq2T1PvCKK                   Liquor Sto'   \n",
       "\n",
       "                 artist_id                artist                album_id  \\\n",
       "0   46SHBwWsqBkxI7EeeBEQG7           Kodak Black  51wp3EOOp2mBIjhZjR7W0i   \n",
       "1   6aaMZ3fcfLv4tEbmY7bjRM         Isaiah Rashad  6jjX8mGrsWtrpYpFhGMrg1   \n",
       "2   3TVXtAsR1Inumwj472S9r4                 Drake  7Ix0FS4f1lK42C3rix5rHg   \n",
       "3   17lzZA2AlOHwCwFALHttmp              2 Chainz  3DiL3a7eQef1sDc8DMvj50   \n",
       "4   5XenQ7XfcvQdfIbpLEFaKQ              GoldLink  18JrBX1QkpnUSJF3oxX6RX   \n",
       "..                     ...                   ...                     ...   \n",
       "95  5me0Irg2ANcsgc93uaYrpb  The Notorious B.I.G.  2HTbQ0RHwukKVXAlTmCZP2   \n",
       "96  3ipn9JLAPI5GUEo4y4jcoi              Ludacris  10kpIdgJcsplJG1lwt8aZQ   \n",
       "97  2GHclqNVjqGuiE5mA7BEoc                Common  4oVpqMqd0A1GPW3RkypqXw   \n",
       "98  3TVXtAsR1Inumwj472S9r4                 Drake  2ekw2pa8kX7A9yDaCroXXD   \n",
       "99  5MbNzCW3qokGyoo9giHA3V             EARTHGANG  3bYMVNcOHLDv2z6yWEl3yb   \n",
       "\n",
       "                               album  track popularity release_date  \\\n",
       "0       Project Baby 2: All Grown Up                71   2017-08-18   \n",
       "1                   The Sun's Tirade                51   2016-09-02   \n",
       "2                          More Life                 0   2017-03-18   \n",
       "3       Pretty Girls Like Trap Music                 0   2017-06-16   \n",
       "4                       At What Cost                64   2017-03-24   \n",
       "..                               ...               ...          ...   \n",
       "95       Ready to Die (The Remaster)                51   1994-09-13   \n",
       "96  Theater Of The Mind (UK Version)                 0   2008-01-01   \n",
       "97                                Be                 0   2005-05-24   \n",
       "98                      Back To Back                 0   2015-07-31   \n",
       "99                Strays with Rabies                46   2015-11-05   \n",
       "\n",
       "                    added_at        playlist_name  release_year  \n",
       "0  2017-11-18 00:35:49+00:00  Your Top Songs 2017          2017  \n",
       "1  2017-11-18 00:35:49+00:00  Your Top Songs 2017          2016  \n",
       "2  2017-11-18 00:35:49+00:00  Your Top Songs 2017          2017  \n",
       "3  2017-11-18 00:35:49+00:00  Your Top Songs 2017          2017  \n",
       "4  2017-11-18 00:35:49+00:00  Your Top Songs 2017          2017  \n",
       "..                       ...                  ...           ...  \n",
       "95 2017-11-18 00:35:49+00:00  Your Top Songs 2017          1994  \n",
       "96 2017-11-18 00:35:49+00:00  Your Top Songs 2017          2008  \n",
       "97 2017-11-18 00:35:49+00:00  Your Top Songs 2017          2005  \n",
       "98 2017-11-18 00:35:49+00:00  Your Top Songs 2017          2015  \n",
       "99 2017-11-18 00:35:49+00:00  Your Top Songs 2017          2015  \n",
       "\n",
       "[100 rows x 11 columns]"
      ]
     },
     "execution_count": 93,
     "metadata": {},
     "output_type": "execute_result"
    }
   ],
   "source": [
    "playlist_df_2017[\"track popularity\"].mean()\n",
    "playlist_df_2017[\"track popularity\"].min()\n",
    "playlist_df_2017"
   ]
  },
  {
   "cell_type": "markdown",
   "metadata": {
    "pycharm": {
     "name": "#%% md\n"
    }
   },
   "source": [
    "## Genres"
   ]
  },
  {
   "cell_type": "code",
   "execution_count": 101,
   "metadata": {
    "pycharm": {
     "name": "#%%\n"
    }
   },
   "outputs": [
    {
     "data": {
      "text/plain": [
       "{'florida rap': 1,\n",
       " 'hip hop': 69,\n",
       " 'melodic rap': 8,\n",
       " 'miami hip hop': 1,\n",
       " 'rap': 72,\n",
       " 'southern hip hop': 23,\n",
       " 'trap': 34,\n",
       " 'tennessee hip hop': 3,\n",
       " 'underground hip hop': 18,\n",
       " 'canadian hip hop': 7,\n",
       " 'canadian pop': 6,\n",
       " 'toronto rap': 7,\n",
       " 'atl hip hop': 18,\n",
       " 'gangster rap': 25,\n",
       " 'pop rap': 25,\n",
       " 'alternative r&b': 8,\n",
       " 'dmv rap': 2,\n",
       " 'indie soul': 10,\n",
       " 'r&b': 3,\n",
       " 'neo soul': 7,\n",
       " 'vapor trap': 8,\n",
       " 'atl trap': 2,\n",
       " 'slap house': 3,\n",
       " 'hardcore hip hop': 10,\n",
       " 'hip pop': 1,\n",
       " 'conscious hip hop': 12,\n",
       " 'east coast hip hop': 14,\n",
       " 'queens hip hop': 3,\n",
       " 'meme rap': 2,\n",
       " 'plugg': 3,\n",
       " 'pop': 7,\n",
       " 'filter house': 3,\n",
       " 'portland hip hop': 1,\n",
       " 'dance pop': 4,\n",
       " 'edm': 2,\n",
       " 'electro house': 2,\n",
       " 'house': 2,\n",
       " 'progressive house': 2,\n",
       " 'uk dance': 2,\n",
       " 'afrobeat': 1,\n",
       " 'funk': 1,\n",
       " 'soul': 2,\n",
       " 'west coast rap': 6,\n",
       " 'british invasion': 2,\n",
       " 'classic rock': 5,\n",
       " 'rock': 5,\n",
       " 'soul flow': 1,\n",
       " 'indie folk': 1,\n",
       " 'irish singer-songwriter': 1,\n",
       " 'neo mellow': 1,\n",
       " 'stomp and holler': 1,\n",
       " 'alternative hip hop': 5,\n",
       " 'escape room': 1,\n",
       " 'north carolina hip hop': 1,\n",
       " 'trap queen': 1,\n",
       " 'lgbtq+ hip hop': 3,\n",
       " 'new orleans rap': 1,\n",
       " 'classic soul': 1,\n",
       " 'jazz blues': 1,\n",
       " 'memphis soul': 1,\n",
       " 'southern soul': 1,\n",
       " 'dirty south rap': 6,\n",
       " 'afrofuturism': 1,\n",
       " 'chicago rap': 2,\n",
       " 'uk hip hop': 1,\n",
       " 'houston rap': 1,\n",
       " 'art rock': 2,\n",
       " 'glam rock': 1,\n",
       " 'permanent wave': 2,\n",
       " 'psychedelic rock': 2,\n",
       " 'singer-songwriter': 2,\n",
       " 'cali rap': 1,\n",
       " 'dfw rap': 1,\n",
       " 'virginia hip hop': 1,\n",
       " 'sudanese pop': 1,\n",
       " 'g funk': 2,\n",
       " 'album rock': 2,\n",
       " 'canadian singer-songwriter': 1,\n",
       " 'classic canadian rock': 1,\n",
       " 'mellow gold': 1,\n",
       " 'roots rock': 1,\n",
       " 'golden age hip hop': 1,\n",
       " 'old school hip hop': 1,\n",
       " 'political hip hop': 2,\n",
       " 'philly rap': 1,\n",
       " 'progressive rock': 1,\n",
       " 'symphonic rock': 1,\n",
       " 'psychedelic hip hop': 1}"
      ]
     },
     "execution_count": 101,
     "metadata": {},
     "output_type": "execute_result"
    }
   ],
   "source": [
    "genre_dict = dict()\n",
    "for index, row in playlist_df_2017.iterrows():\n",
    "    artist = sp.artist(row[\"artist_id\"])\n",
    "    artist_genres_list = artist[\"genres\"]\n",
    "    for genre in artist_genres_list:\n",
    "        if genre not in genre_dict:\n",
    "            genre_dict[genre] = 1\n",
    "        else:\n",
    "            genre_dict[genre] += 1\n",
    "genre_dict"
   ]
  },
  {
   "cell_type": "code",
   "execution_count": 114,
   "metadata": {
    "pycharm": {
     "name": "#%%\n"
    }
   },
   "outputs": [
    {
     "data": {
      "text/html": [
       "<div>\n",
       "<style scoped>\n",
       "    .dataframe tbody tr th:only-of-type {\n",
       "        vertical-align: middle;\n",
       "    }\n",
       "\n",
       "    .dataframe tbody tr th {\n",
       "        vertical-align: top;\n",
       "    }\n",
       "\n",
       "    .dataframe thead th {\n",
       "        text-align: right;\n",
       "    }\n",
       "</style>\n",
       "<table border=\"1\" class=\"dataframe\">\n",
       "  <thead>\n",
       "    <tr style=\"text-align: right;\">\n",
       "      <th></th>\n",
       "      <th>genre</th>\n",
       "      <th>count</th>\n",
       "    </tr>\n",
       "  </thead>\n",
       "  <tbody>\n",
       "    <tr>\n",
       "      <th>4</th>\n",
       "      <td>rap</td>\n",
       "      <td>72</td>\n",
       "    </tr>\n",
       "    <tr>\n",
       "      <th>1</th>\n",
       "      <td>hip hop</td>\n",
       "      <td>69</td>\n",
       "    </tr>\n",
       "    <tr>\n",
       "      <th>6</th>\n",
       "      <td>trap</td>\n",
       "      <td>34</td>\n",
       "    </tr>\n",
       "    <tr>\n",
       "      <th>14</th>\n",
       "      <td>pop rap</td>\n",
       "      <td>25</td>\n",
       "    </tr>\n",
       "    <tr>\n",
       "      <th>13</th>\n",
       "      <td>gangster rap</td>\n",
       "      <td>25</td>\n",
       "    </tr>\n",
       "    <tr>\n",
       "      <th>...</th>\n",
       "      <td>...</td>\n",
       "      <td>...</td>\n",
       "    </tr>\n",
       "    <tr>\n",
       "      <th>58</th>\n",
       "      <td>jazz blues</td>\n",
       "      <td>1</td>\n",
       "    </tr>\n",
       "    <tr>\n",
       "      <th>59</th>\n",
       "      <td>memphis soul</td>\n",
       "      <td>1</td>\n",
       "    </tr>\n",
       "    <tr>\n",
       "      <th>60</th>\n",
       "      <td>southern soul</td>\n",
       "      <td>1</td>\n",
       "    </tr>\n",
       "    <tr>\n",
       "      <th>62</th>\n",
       "      <td>afrofuturism</td>\n",
       "      <td>1</td>\n",
       "    </tr>\n",
       "    <tr>\n",
       "      <th>87</th>\n",
       "      <td>psychedelic hip hop</td>\n",
       "      <td>1</td>\n",
       "    </tr>\n",
       "  </tbody>\n",
       "</table>\n",
       "<p>88 rows × 2 columns</p>\n",
       "</div>"
      ],
      "text/plain": [
       "                  genre  count\n",
       "4                   rap     72\n",
       "1               hip hop     69\n",
       "6                  trap     34\n",
       "14              pop rap     25\n",
       "13         gangster rap     25\n",
       "..                  ...    ...\n",
       "58           jazz blues      1\n",
       "59         memphis soul      1\n",
       "60        southern soul      1\n",
       "62         afrofuturism      1\n",
       "87  psychedelic hip hop      1\n",
       "\n",
       "[88 rows x 2 columns]"
      ]
     },
     "execution_count": 114,
     "metadata": {},
     "output_type": "execute_result"
    }
   ],
   "source": [
    "genre_df = pd.DataFrame()\n",
    "genre_df[\"genre\"] = genre_dict.keys()\n",
    "genre_df[\"count\"] = genre_dict.values()\n",
    "genre_df.sort_values(\"count\", ascending=False)"
   ]
  },
  {
   "cell_type": "markdown",
   "metadata": {},
   "source": [
    "## Calendar"
   ]
  },
  {
   "cell_type": "code",
   "execution_count": 166,
   "metadata": {
    "pycharm": {
     "name": "#%%\n"
    }
   },
   "outputs": [
    {
     "data": {
      "text/plain": [
       "{1990: 33, 2010: 395, 2000: 31, 1980: 4, 1960: 3, 1970: 14, 1950: 1, 2020: 13}"
      ]
     },
     "execution_count": 166,
     "metadata": {},
     "output_type": "execute_result"
    }
   ],
   "source": [
    "id = get_playist_id_from_link(\"https://open.spotify.com/playlist/1DiTkTibrpQjPLx7GKIUu1?si=c12fa9135cb94ee5\")\n",
    "playlist_df = get_playlist_df(id)\n",
    "make_song_decade_playlist_dict(playlist_df)"
   ]
  },
  {
   "cell_type": "code",
   "execution_count": 171,
   "metadata": {
    "pycharm": {
     "name": "#%%\n"
    }
   },
   "outputs": [
    {
     "name": "stderr",
     "output_type": "stream",
     "text": [
      "c:\\users\\jaume\\docume~1\\python~2\\spotif~1\\venv_s~1\\lib\\site-packages\\pandas\\core\\arrays\\datetimes.py:1143: UserWarning: Converting to PeriodArray/Index representation will drop timezone information.\n",
      "  warnings.warn(\n"
     ]
    }
   ],
   "source": [
    "dms = playlist_df.groupby(playlist_df['added_at'].dt.to_period('D')).count()['id'].to_timestamp()\n",
    "max_year = playlist_df['added_at'].dt.to_period('D').max().year\n",
    "min_year = playlist_df['added_at'].dt.to_period('D').min().year\n",
    "\n",
    "idx = pd.date_range(str(min_year) + '-1-1', str(max_year) + '-12-31')\n",
    "dms.index = pd.DatetimeIndex(dms.index)\n",
    "daily_adds = dms.reindex(idx, fill_value=0)"
   ]
  },
  {
   "cell_type": "code",
   "execution_count": 172,
   "metadata": {
    "pycharm": {
     "name": "#%%\n"
    }
   },
   "outputs": [
    {
     "data": {
      "image/png": "[encoded data removed]",
      "text/plain": [
       "<Figure size 1440x504 with 5 Axes>"
      ]
     },
     "metadata": {
      "needs_background": "light"
     },
     "output_type": "display_data"
    }
   ],
   "source": [
    "# Create discrete colors\n",
    "from pylab import *\n",
    "cmap = cm.get_cmap('YlGn', 10)\n",
    "\n",
    "import calplot\n",
    "calplot.calplot(daily_adds, cmap = cmap, figsize = (20, 7))\n",
    "plt.show()"
   ]
  },
  {
   "cell_type": "code",
   "execution_count": 187,
   "metadata": {
    "pycharm": {
     "name": "#%%\n"
    }
   },
   "outputs": [],
   "source": [
    "from pylab import *\n",
    "import calplot\n",
    "\n",
    "\n",
    "ADDED_AT_COLUMN = \"added_at\"\n",
    "DAY_FREQUENCY = \"D\"\n",
    "START_OF_YEAR = \"-1-1\"\n",
    "END_OF_YEAR = \"-12-31\"\n",
    "COLORWAY_CALENDAR = 'YlGn'\n",
    "\n",
    "\n",
    "def make_daily_add_series(playlist_df):\n",
    "    \"\"\"\n",
    "\n",
    "    :param playlist_df:\n",
    "    :return:\n",
    "    \"\"\"\n",
    "    dms = playlist_df.groupby(playlist_df[ADDED_AT_COLUMN].dt.to_period(DAY_FREQUENCY)).count()[ID].to_timestamp()\n",
    "    max_year = playlist_df[ADDED_AT_COLUMN].dt.to_period(DAY_FREQUENCY).max().year\n",
    "    min_year = playlist_df[ADDED_AT_COLUMN].dt.to_period(DAY_FREQUENCY).min().year\n",
    "    idx = pd.date_range(str(min_year) + START_OF_YEAR, str(max_year) + END_OF_YEAR)\n",
    "    dms.index = pd.DatetimeIndex(dms.index)\n",
    "    daily_adds = dms.reindex(idx, fill_value=0)\n",
    "    return daily_adds\n",
    "\n",
    "def plot_date_added_calendar(daily_adds):\n",
    "    \"\"\"\n",
    "\n",
    "    :param daily_adds:\n",
    "    :return:\n",
    "    \"\"\"\n",
    "    cmap = cm.get_cmap(COLORWAY_CALENDAR, 10)\n",
    "    calplot.calplot(daily_adds, cmap = cmap, figsize = (20, 7))\n",
    "    plt.show()\n",
    "    return None\n",
    "\n",
    "def pipeline_date_added_calendar(playlist_df):\n",
    "    \"\"\"\n",
    "\n",
    "    :param playlist_df:\n",
    "    :return:\n",
    "    \"\"\"\n",
    "    daily_adds = make_daily_add_series(playlist_df)\n",
    "    plot_date_added_calendar(daily_adds)"
   ]
  },
  {
   "cell_type": "code",
   "execution_count": 182,
   "metadata": {
    "pycharm": {
     "name": "#%%\n"
    }
   },
   "outputs": [
    {
     "name": "stderr",
     "output_type": "stream",
     "text": [
      "c:\\users\\jaume\\docume~1\\python~2\\spotif~1\\venv_s~1\\lib\\site-packages\\pandas\\core\\arrays\\datetimes.py:1143: UserWarning: Converting to PeriodArray/Index representation will drop timezone information.\n",
      "  warnings.warn(\n"
     ]
    },
    {
     "data": {
      "image/png": "[encoded data removed]",
      "text/plain": [
       "<Figure size 1440x504 with 5 Axes>"
      ]
     },
     "metadata": {
      "needs_background": "light"
     },
     "output_type": "display_data"
    }
   ],
   "source": [
    "pipeline_date_added_calendar(playlist_df)"
   ]
  },
  {
   "cell_type": "code",
   "execution_count": 186,
   "metadata": {
    "pycharm": {
     "name": "#%%\n"
    }
   },
   "outputs": [
    {
     "name": "stderr",
     "output_type": "stream",
     "text": [
      "c:\\users\\jaume\\docume~1\\python~2\\spotif~1\\venv_s~1\\lib\\site-packages\\pandas\\core\\arrays\\datetimes.py:1143: UserWarning: Converting to PeriodArray/Index representation will drop timezone information.\n",
      "  warnings.warn(\n"
     ]
    },
    {
     "data": {
      "image/png": "[encoded data removed]",
      "text/plain": [
       "<Figure size 1440x504 with 2 Axes>"
      ]
     },
     "metadata": {
      "needs_background": "light"
     },
     "output_type": "display_data"
    }
   ],
   "source": [
    "id = get_playist_id_from_link(\"https://open.spotify.com/playlist/0Fv83T55JNf7lEyqwuZscq?si=e7e9d03416e44857\")\n",
    "playlist_df = get_playlist_df(id)\n",
    "pipeline_date_added_calendar(playlist_df)"
   ]
  },
  {
   "cell_type": "markdown",
   "metadata": {
    "pycharm": {
     "name": "#%% md\n"
    }
   },
   "source": [
    "## Song Features"
   ]
  },
  {
   "cell_type": "code",
   "execution_count": 188,
   "metadata": {
    "pycharm": {
     "name": "#%%\n"
    }
   },
   "outputs": [],
   "source": [
    "features = list()\n",
    "\n",
    "for n, chunk_series in playlist_df_2017.groupby(np.arange(len(playlist_df_2017)) // 100)['id']:\n",
    "    features += sp.audio_features([*map(str, chunk_series)])\n",
    "\n",
    "features_df = pd.DataFrame.from_dict(filter(None, features))\n",
    "\n",
    "tracks_with_features_df = playlist_df_2017.merge(features_df, on = ['id'], how = 'inner')"
   ]
  },
  {
   "cell_type": "code",
   "execution_count": 190,
   "metadata": {
    "pycharm": {
     "name": "#%%\n"
    }
   },
   "outputs": [
    {
     "data": {
      "text/html": [
       "<div>\n",
       "<style scoped>\n",
       "    .dataframe tbody tr th:only-of-type {\n",
       "        vertical-align: middle;\n",
       "    }\n",
       "\n",
       "    .dataframe tbody tr th {\n",
       "        vertical-align: top;\n",
       "    }\n",
       "\n",
       "    .dataframe thead th {\n",
       "        text-align: right;\n",
       "    }\n",
       "</style>\n",
       "<table border=\"1\" class=\"dataframe\">\n",
       "  <thead>\n",
       "    <tr style=\"text-align: right;\">\n",
       "      <th></th>\n",
       "      <th>id</th>\n",
       "      <th>name</th>\n",
       "      <th>artist_id</th>\n",
       "      <th>artist</th>\n",
       "      <th>album_id</th>\n",
       "      <th>album</th>\n",
       "      <th>track popularity</th>\n",
       "      <th>release_date</th>\n",
       "      <th>added_at</th>\n",
       "      <th>playlist_name</th>\n",
       "      <th>...</th>\n",
       "      <th>instrumentalness</th>\n",
       "      <th>liveness</th>\n",
       "      <th>valence</th>\n",
       "      <th>tempo</th>\n",
       "      <th>type</th>\n",
       "      <th>uri</th>\n",
       "      <th>track_href</th>\n",
       "      <th>analysis_url</th>\n",
       "      <th>duration_ms</th>\n",
       "      <th>time_signature</th>\n",
       "    </tr>\n",
       "  </thead>\n",
       "  <tbody>\n",
       "    <tr>\n",
       "      <th>0</th>\n",
       "      <td>1WIZiOuNO3woKfdlSK2gNn</td>\n",
       "      <td>Transportin'</td>\n",
       "      <td>46SHBwWsqBkxI7EeeBEQG7</td>\n",
       "      <td>Kodak Black</td>\n",
       "      <td>51wp3EOOp2mBIjhZjR7W0i</td>\n",
       "      <td>Project Baby 2: All Grown Up</td>\n",
       "      <td>71</td>\n",
       "      <td>2017-08-18</td>\n",
       "      <td>2017-11-18 00:35:49+00:00</td>\n",
       "      <td>Your Top Songs 2017</td>\n",
       "      <td>...</td>\n",
       "      <td>0.000000</td>\n",
       "      <td>0.103</td>\n",
       "      <td>0.257</td>\n",
       "      <td>94.053</td>\n",
       "      <td>audio_features</td>\n",
       "      <td>spotify:track:1WIZiOuNO3woKfdlSK2gNn</td>\n",
       "      <td>https://api.spotify.com/v1/tracks/1WIZiOuNO3wo...</td>\n",
       "      <td>https://api.spotify.com/v1/audio-analysis/1WIZ...</td>\n",
       "      <td>169345</td>\n",
       "      <td>4</td>\n",
       "    </tr>\n",
       "    <tr>\n",
       "      <th>1</th>\n",
       "      <td>5hqh0JUxRShhqdaxu7wlz5</td>\n",
       "      <td>Park</td>\n",
       "      <td>6aaMZ3fcfLv4tEbmY7bjRM</td>\n",
       "      <td>Isaiah Rashad</td>\n",
       "      <td>6jjX8mGrsWtrpYpFhGMrg1</td>\n",
       "      <td>The Sun's Tirade</td>\n",
       "      <td>51</td>\n",
       "      <td>2016-09-02</td>\n",
       "      <td>2017-11-18 00:35:49+00:00</td>\n",
       "      <td>Your Top Songs 2017</td>\n",
       "      <td>...</td>\n",
       "      <td>0.000000</td>\n",
       "      <td>0.306</td>\n",
       "      <td>0.543</td>\n",
       "      <td>100.034</td>\n",
       "      <td>audio_features</td>\n",
       "      <td>spotify:track:5hqh0JUxRShhqdaxu7wlz5</td>\n",
       "      <td>https://api.spotify.com/v1/tracks/5hqh0JUxRShh...</td>\n",
       "      <td>https://api.spotify.com/v1/audio-analysis/5hqh...</td>\n",
       "      <td>173291</td>\n",
       "      <td>4</td>\n",
       "    </tr>\n",
       "    <tr>\n",
       "      <th>2</th>\n",
       "      <td>2jG6ifTWXk0AvonlgcXGgZ</td>\n",
       "      <td>Portland</td>\n",
       "      <td>3TVXtAsR1Inumwj472S9r4</td>\n",
       "      <td>Drake</td>\n",
       "      <td>7Ix0FS4f1lK42C3rix5rHg</td>\n",
       "      <td>More Life</td>\n",
       "      <td>0</td>\n",
       "      <td>2017-03-18</td>\n",
       "      <td>2017-11-18 00:35:49+00:00</td>\n",
       "      <td>Your Top Songs 2017</td>\n",
       "      <td>...</td>\n",
       "      <td>0.000000</td>\n",
       "      <td>0.276</td>\n",
       "      <td>0.350</td>\n",
       "      <td>136.078</td>\n",
       "      <td>audio_features</td>\n",
       "      <td>spotify:track:2jG6ifTWXk0AvonlgcXGgZ</td>\n",
       "      <td>https://api.spotify.com/v1/tracks/2jG6ifTWXk0A...</td>\n",
       "      <td>https://api.spotify.com/v1/audio-analysis/2jG6...</td>\n",
       "      <td>236615</td>\n",
       "      <td>4</td>\n",
       "    </tr>\n",
       "    <tr>\n",
       "      <th>3</th>\n",
       "      <td>02hNDxtMMTpq72rdp1lm6v</td>\n",
       "      <td>4 AM</td>\n",
       "      <td>17lzZA2AlOHwCwFALHttmp</td>\n",
       "      <td>2 Chainz</td>\n",
       "      <td>3DiL3a7eQef1sDc8DMvj50</td>\n",
       "      <td>Pretty Girls Like Trap Music</td>\n",
       "      <td>0</td>\n",
       "      <td>2017-06-16</td>\n",
       "      <td>2017-11-18 00:35:49+00:00</td>\n",
       "      <td>Your Top Songs 2017</td>\n",
       "      <td>...</td>\n",
       "      <td>0.000000</td>\n",
       "      <td>0.169</td>\n",
       "      <td>0.225</td>\n",
       "      <td>75.031</td>\n",
       "      <td>audio_features</td>\n",
       "      <td>spotify:track:02hNDxtMMTpq72rdp1lm6v</td>\n",
       "      <td>https://api.spotify.com/v1/tracks/02hNDxtMMTpq...</td>\n",
       "      <td>https://api.spotify.com/v1/audio-analysis/02hN...</td>\n",
       "      <td>255560</td>\n",
       "      <td>4</td>\n",
       "    </tr>\n",
       "    <tr>\n",
       "      <th>4</th>\n",
       "      <td>564oa00vY05d1uYnTEAAmE</td>\n",
       "      <td>Herside Story</td>\n",
       "      <td>5XenQ7XfcvQdfIbpLEFaKQ</td>\n",
       "      <td>GoldLink</td>\n",
       "      <td>18JrBX1QkpnUSJF3oxX6RX</td>\n",
       "      <td>At What Cost</td>\n",
       "      <td>64</td>\n",
       "      <td>2017-03-24</td>\n",
       "      <td>2017-11-18 00:35:49+00:00</td>\n",
       "      <td>Your Top Songs 2017</td>\n",
       "      <td>...</td>\n",
       "      <td>0.000004</td>\n",
       "      <td>0.105</td>\n",
       "      <td>0.754</td>\n",
       "      <td>148.034</td>\n",
       "      <td>audio_features</td>\n",
       "      <td>spotify:track:564oa00vY05d1uYnTEAAmE</td>\n",
       "      <td>https://api.spotify.com/v1/tracks/564oa00vY05d...</td>\n",
       "      <td>https://api.spotify.com/v1/audio-analysis/564o...</td>\n",
       "      <td>183760</td>\n",
       "      <td>4</td>\n",
       "    </tr>\n",
       "    <tr>\n",
       "      <th>...</th>\n",
       "      <td>...</td>\n",
       "      <td>...</td>\n",
       "      <td>...</td>\n",
       "      <td>...</td>\n",
       "      <td>...</td>\n",
       "      <td>...</td>\n",
       "      <td>...</td>\n",
       "      <td>...</td>\n",
       "      <td>...</td>\n",
       "      <td>...</td>\n",
       "      <td>...</td>\n",
       "      <td>...</td>\n",
       "      <td>...</td>\n",
       "      <td>...</td>\n",
       "      <td>...</td>\n",
       "      <td>...</td>\n",
       "      <td>...</td>\n",
       "      <td>...</td>\n",
       "      <td>...</td>\n",
       "      <td>...</td>\n",
       "      <td>...</td>\n",
       "    </tr>\n",
       "    <tr>\n",
       "      <th>95</th>\n",
       "      <td>4heC6SnTBxTZZDef4AIBOk</td>\n",
       "      <td>Unbelievable - 2005 Remaster</td>\n",
       "      <td>5me0Irg2ANcsgc93uaYrpb</td>\n",
       "      <td>The Notorious B.I.G.</td>\n",
       "      <td>2HTbQ0RHwukKVXAlTmCZP2</td>\n",
       "      <td>Ready to Die (The Remaster)</td>\n",
       "      <td>51</td>\n",
       "      <td>1994-09-13</td>\n",
       "      <td>2017-11-18 00:35:49+00:00</td>\n",
       "      <td>Your Top Songs 2017</td>\n",
       "      <td>...</td>\n",
       "      <td>0.002020</td>\n",
       "      <td>0.277</td>\n",
       "      <td>0.786</td>\n",
       "      <td>182.884</td>\n",
       "      <td>audio_features</td>\n",
       "      <td>spotify:track:4heC6SnTBxTZZDef4AIBOk</td>\n",
       "      <td>https://api.spotify.com/v1/tracks/4heC6SnTBxTZ...</td>\n",
       "      <td>https://api.spotify.com/v1/audio-analysis/4heC...</td>\n",
       "      <td>223720</td>\n",
       "      <td>4</td>\n",
       "    </tr>\n",
       "    <tr>\n",
       "      <th>96</th>\n",
       "      <td>1QuYPKVcCOiwA9P4LKein0</td>\n",
       "      <td>Undisputed</td>\n",
       "      <td>3ipn9JLAPI5GUEo4y4jcoi</td>\n",
       "      <td>Ludacris</td>\n",
       "      <td>10kpIdgJcsplJG1lwt8aZQ</td>\n",
       "      <td>Theater Of The Mind (UK Version)</td>\n",
       "      <td>0</td>\n",
       "      <td>2008-01-01</td>\n",
       "      <td>2017-11-18 00:35:49+00:00</td>\n",
       "      <td>Your Top Songs 2017</td>\n",
       "      <td>...</td>\n",
       "      <td>0.000000</td>\n",
       "      <td>0.351</td>\n",
       "      <td>0.760</td>\n",
       "      <td>163.126</td>\n",
       "      <td>audio_features</td>\n",
       "      <td>spotify:track:1QuYPKVcCOiwA9P4LKein0</td>\n",
       "      <td>https://api.spotify.com/v1/tracks/1QuYPKVcCOiw...</td>\n",
       "      <td>https://api.spotify.com/v1/audio-analysis/1QuY...</td>\n",
       "      <td>273053</td>\n",
       "      <td>4</td>\n",
       "    </tr>\n",
       "    <tr>\n",
       "      <th>97</th>\n",
       "      <td>3YYteeLZAPGp0jdXITBg3n</td>\n",
       "      <td>The Food</td>\n",
       "      <td>2GHclqNVjqGuiE5mA7BEoc</td>\n",
       "      <td>Common</td>\n",
       "      <td>4oVpqMqd0A1GPW3RkypqXw</td>\n",
       "      <td>Be</td>\n",
       "      <td>0</td>\n",
       "      <td>2005-05-24</td>\n",
       "      <td>2017-11-18 00:35:49+00:00</td>\n",
       "      <td>Your Top Songs 2017</td>\n",
       "      <td>...</td>\n",
       "      <td>0.000000</td>\n",
       "      <td>0.965</td>\n",
       "      <td>0.719</td>\n",
       "      <td>88.250</td>\n",
       "      <td>audio_features</td>\n",
       "      <td>spotify:track:3YYteeLZAPGp0jdXITBg3n</td>\n",
       "      <td>https://api.spotify.com/v1/tracks/3YYteeLZAPGp...</td>\n",
       "      <td>https://api.spotify.com/v1/audio-analysis/3YYt...</td>\n",
       "      <td>216867</td>\n",
       "      <td>4</td>\n",
       "    </tr>\n",
       "    <tr>\n",
       "      <th>98</th>\n",
       "      <td>4rujbg8RNFitwtkv1qEq4K</td>\n",
       "      <td>Back To Back</td>\n",
       "      <td>3TVXtAsR1Inumwj472S9r4</td>\n",
       "      <td>Drake</td>\n",
       "      <td>2ekw2pa8kX7A9yDaCroXXD</td>\n",
       "      <td>Back To Back</td>\n",
       "      <td>0</td>\n",
       "      <td>2015-07-31</td>\n",
       "      <td>2017-11-18 00:35:49+00:00</td>\n",
       "      <td>Your Top Songs 2017</td>\n",
       "      <td>...</td>\n",
       "      <td>0.000000</td>\n",
       "      <td>0.116</td>\n",
       "      <td>0.382</td>\n",
       "      <td>86.976</td>\n",
       "      <td>audio_features</td>\n",
       "      <td>spotify:track:4rujbg8RNFitwtkv1qEq4K</td>\n",
       "      <td>https://api.spotify.com/v1/tracks/4rujbg8RNFit...</td>\n",
       "      <td>https://api.spotify.com/v1/audio-analysis/4ruj...</td>\n",
       "      <td>170638</td>\n",
       "      <td>4</td>\n",
       "    </tr>\n",
       "    <tr>\n",
       "      <th>99</th>\n",
       "      <td>6fUHMhwKBSmetq2T1PvCKK</td>\n",
       "      <td>Liquor Sto'</td>\n",
       "      <td>5MbNzCW3qokGyoo9giHA3V</td>\n",
       "      <td>EARTHGANG</td>\n",
       "      <td>3bYMVNcOHLDv2z6yWEl3yb</td>\n",
       "      <td>Strays with Rabies</td>\n",
       "      <td>46</td>\n",
       "      <td>2015-11-05</td>\n",
       "      <td>2017-11-18 00:35:49+00:00</td>\n",
       "      <td>Your Top Songs 2017</td>\n",
       "      <td>...</td>\n",
       "      <td>0.000000</td>\n",
       "      <td>0.473</td>\n",
       "      <td>0.201</td>\n",
       "      <td>132.050</td>\n",
       "      <td>audio_features</td>\n",
       "      <td>spotify:track:6fUHMhwKBSmetq2T1PvCKK</td>\n",
       "      <td>https://api.spotify.com/v1/tracks/6fUHMhwKBSme...</td>\n",
       "      <td>https://api.spotify.com/v1/audio-analysis/6fUH...</td>\n",
       "      <td>296587</td>\n",
       "      <td>4</td>\n",
       "    </tr>\n",
       "  </tbody>\n",
       "</table>\n",
       "<p>100 rows × 28 columns</p>\n",
       "</div>"
      ],
      "text/plain": [
       "                        id                          name  \\\n",
       "0   1WIZiOuNO3woKfdlSK2gNn                  Transportin'   \n",
       "1   5hqh0JUxRShhqdaxu7wlz5                          Park   \n",
       "2   2jG6ifTWXk0AvonlgcXGgZ                      Portland   \n",
       "3   02hNDxtMMTpq72rdp1lm6v                          4 AM   \n",
       "4   564oa00vY05d1uYnTEAAmE                 Herside Story   \n",
       "..                     ...                           ...   \n",
       "95  4heC6SnTBxTZZDef4AIBOk  Unbelievable - 2005 Remaster   \n",
       "96  1QuYPKVcCOiwA9P4LKein0                    Undisputed   \n",
       "97  3YYteeLZAPGp0jdXITBg3n                      The Food   \n",
       "98  4rujbg8RNFitwtkv1qEq4K                  Back To Back   \n",
       "99  6fUHMhwKBSmetq2T1PvCKK                   Liquor Sto'   \n",
       "\n",
       "                 artist_id                artist                album_id  \\\n",
       "0   46SHBwWsqBkxI7EeeBEQG7           Kodak Black  51wp3EOOp2mBIjhZjR7W0i   \n",
       "1   6aaMZ3fcfLv4tEbmY7bjRM         Isaiah Rashad  6jjX8mGrsWtrpYpFhGMrg1   \n",
       "2   3TVXtAsR1Inumwj472S9r4                 Drake  7Ix0FS4f1lK42C3rix5rHg   \n",
       "3   17lzZA2AlOHwCwFALHttmp              2 Chainz  3DiL3a7eQef1sDc8DMvj50   \n",
       "4   5XenQ7XfcvQdfIbpLEFaKQ              GoldLink  18JrBX1QkpnUSJF3oxX6RX   \n",
       "..                     ...                   ...                     ...   \n",
       "95  5me0Irg2ANcsgc93uaYrpb  The Notorious B.I.G.  2HTbQ0RHwukKVXAlTmCZP2   \n",
       "96  3ipn9JLAPI5GUEo4y4jcoi              Ludacris  10kpIdgJcsplJG1lwt8aZQ   \n",
       "97  2GHclqNVjqGuiE5mA7BEoc                Common  4oVpqMqd0A1GPW3RkypqXw   \n",
       "98  3TVXtAsR1Inumwj472S9r4                 Drake  2ekw2pa8kX7A9yDaCroXXD   \n",
       "99  5MbNzCW3qokGyoo9giHA3V             EARTHGANG  3bYMVNcOHLDv2z6yWEl3yb   \n",
       "\n",
       "                               album  track popularity release_date  \\\n",
       "0       Project Baby 2: All Grown Up                71   2017-08-18   \n",
       "1                   The Sun's Tirade                51   2016-09-02   \n",
       "2                          More Life                 0   2017-03-18   \n",
       "3       Pretty Girls Like Trap Music                 0   2017-06-16   \n",
       "4                       At What Cost                64   2017-03-24   \n",
       "..                               ...               ...          ...   \n",
       "95       Ready to Die (The Remaster)                51   1994-09-13   \n",
       "96  Theater Of The Mind (UK Version)                 0   2008-01-01   \n",
       "97                                Be                 0   2005-05-24   \n",
       "98                      Back To Back                 0   2015-07-31   \n",
       "99                Strays with Rabies                46   2015-11-05   \n",
       "\n",
       "                    added_at        playlist_name  ...  instrumentalness  \\\n",
       "0  2017-11-18 00:35:49+00:00  Your Top Songs 2017  ...          0.000000   \n",
       "1  2017-11-18 00:35:49+00:00  Your Top Songs 2017  ...          0.000000   \n",
       "2  2017-11-18 00:35:49+00:00  Your Top Songs 2017  ...          0.000000   \n",
       "3  2017-11-18 00:35:49+00:00  Your Top Songs 2017  ...          0.000000   \n",
       "4  2017-11-18 00:35:49+00:00  Your Top Songs 2017  ...          0.000004   \n",
       "..                       ...                  ...  ...               ...   \n",
       "95 2017-11-18 00:35:49+00:00  Your Top Songs 2017  ...          0.002020   \n",
       "96 2017-11-18 00:35:49+00:00  Your Top Songs 2017  ...          0.000000   \n",
       "97 2017-11-18 00:35:49+00:00  Your Top Songs 2017  ...          0.000000   \n",
       "98 2017-11-18 00:35:49+00:00  Your Top Songs 2017  ...          0.000000   \n",
       "99 2017-11-18 00:35:49+00:00  Your Top Songs 2017  ...          0.000000   \n",
       "\n",
       "    liveness  valence    tempo            type  \\\n",
       "0      0.103    0.257   94.053  audio_features   \n",
       "1      0.306    0.543  100.034  audio_features   \n",
       "2      0.276    0.350  136.078  audio_features   \n",
       "3      0.169    0.225   75.031  audio_features   \n",
       "4      0.105    0.754  148.034  audio_features   \n",
       "..       ...      ...      ...             ...   \n",
       "95     0.277    0.786  182.884  audio_features   \n",
       "96     0.351    0.760  163.126  audio_features   \n",
       "97     0.965    0.719   88.250  audio_features   \n",
       "98     0.116    0.382   86.976  audio_features   \n",
       "99     0.473    0.201  132.050  audio_features   \n",
       "\n",
       "                                     uri  \\\n",
       "0   spotify:track:1WIZiOuNO3woKfdlSK2gNn   \n",
       "1   spotify:track:5hqh0JUxRShhqdaxu7wlz5   \n",
       "2   spotify:track:2jG6ifTWXk0AvonlgcXGgZ   \n",
       "3   spotify:track:02hNDxtMMTpq72rdp1lm6v   \n",
       "4   spotify:track:564oa00vY05d1uYnTEAAmE   \n",
       "..                                   ...   \n",
       "95  spotify:track:4heC6SnTBxTZZDef4AIBOk   \n",
       "96  spotify:track:1QuYPKVcCOiwA9P4LKein0   \n",
       "97  spotify:track:3YYteeLZAPGp0jdXITBg3n   \n",
       "98  spotify:track:4rujbg8RNFitwtkv1qEq4K   \n",
       "99  spotify:track:6fUHMhwKBSmetq2T1PvCKK   \n",
       "\n",
       "                                           track_href  \\\n",
       "0   https://api.spotify.com/v1/tracks/1WIZiOuNO3wo...   \n",
       "1   https://api.spotify.com/v1/tracks/5hqh0JUxRShh...   \n",
       "2   https://api.spotify.com/v1/tracks/2jG6ifTWXk0A...   \n",
       "3   https://api.spotify.com/v1/tracks/02hNDxtMMTpq...   \n",
       "4   https://api.spotify.com/v1/tracks/564oa00vY05d...   \n",
       "..                                                ...   \n",
       "95  https://api.spotify.com/v1/tracks/4heC6SnTBxTZ...   \n",
       "96  https://api.spotify.com/v1/tracks/1QuYPKVcCOiw...   \n",
       "97  https://api.spotify.com/v1/tracks/3YYteeLZAPGp...   \n",
       "98  https://api.spotify.com/v1/tracks/4rujbg8RNFit...   \n",
       "99  https://api.spotify.com/v1/tracks/6fUHMhwKBSme...   \n",
       "\n",
       "                                         analysis_url  duration_ms  \\\n",
       "0   https://api.spotify.com/v1/audio-analysis/1WIZ...       169345   \n",
       "1   https://api.spotify.com/v1/audio-analysis/5hqh...       173291   \n",
       "2   https://api.spotify.com/v1/audio-analysis/2jG6...       236615   \n",
       "3   https://api.spotify.com/v1/audio-analysis/02hN...       255560   \n",
       "4   https://api.spotify.com/v1/audio-analysis/564o...       183760   \n",
       "..                                                ...          ...   \n",
       "95  https://api.spotify.com/v1/audio-analysis/4heC...       223720   \n",
       "96  https://api.spotify.com/v1/audio-analysis/1QuY...       273053   \n",
       "97  https://api.spotify.com/v1/audio-analysis/3YYt...       216867   \n",
       "98  https://api.spotify.com/v1/audio-analysis/4ruj...       170638   \n",
       "99  https://api.spotify.com/v1/audio-analysis/6fUH...       296587   \n",
       "\n",
       "    time_signature  \n",
       "0                4  \n",
       "1                4  \n",
       "2                4  \n",
       "3                4  \n",
       "4                4  \n",
       "..             ...  \n",
       "95               4  \n",
       "96               4  \n",
       "97               4  \n",
       "98               4  \n",
       "99               4  \n",
       "\n",
       "[100 rows x 28 columns]"
      ]
     },
     "execution_count": 190,
     "metadata": {},
     "output_type": "execute_result"
    }
   ],
   "source": [
    "tracks_with_features_df"
   ]
  },
  {
   "cell_type": "code",
   "execution_count": 193,
   "metadata": {
    "pycharm": {
     "name": "#%%\n"
    }
   },
   "outputs": [],
   "source": [
    "from IPython.display import Image\n",
    "from IPython.core.display import HTML\n",
    "\n",
    "def feature_extreme(feature, extreme):\n",
    "    if extreme == 'max':\n",
    "        df_max = tracks_with_features_df[feature].max()\n",
    "        df = tracks_with_features_df[tracks_with_features_df[feature] == df_max]\n",
    "\n",
    "        track_url = sp.track(df['id'].iloc[0])['external_urls']['spotify']\n",
    "\n",
    "        image_url = sp.track(df['id'].iloc[0])['album']['images'][0]['url']\n",
    "\n",
    "        print(f\"The song with the maximum {feature} in my playlist is {df['name'].iloc[0]}. \\\n",
    "              With a maximum {feature} value of {df_max}. The song is by {df['artist'].iloc[0]}, \\\n",
    "              released on the {df['album'].iloc[0]} album in {df['release_date'].dt.to_period('D').iloc[0]}.\",\n",
    "              f\"The track can be listened to here: {track_url}\", '\\n', '\\n')\n",
    "\n",
    "        return Image(url = image_url, width = 250)\n",
    "\n",
    "    elif extreme == 'min':\n",
    "        df_min = tracks_with_features_df[feature].min()\n",
    "        df = tracks_with_features_df[tracks_with_features_df[feature] == df_min]\n",
    "\n",
    "        track_url = sp.track(df['id'].iloc[0])['external_urls']['spotify']\n",
    "\n",
    "        image_url = sp.track(df['id'].iloc[0])['album']['images'][0]['url']\n",
    "\n",
    "        print(f\"The song with the minimum {feature} in my playlist is {df['name'].iloc[0]}. \\\n",
    "              With a minimum {feature} value of {df_min}. The song is by {df['artist'].iloc[0]}, \\\n",
    "              released on the {df['album'].iloc[0]} album in {df['release_date'].dt.to_period('D').iloc[0]}.\",\n",
    "              f\"The track can be listened to here: {track_url}\", '\\n', '\\n')\n",
    "\n",
    "        return Image(url = image_url, width = 250)\n",
    "\n",
    "    else:\n",
    "        raise ValueError('extreme value must be \"max\" or \"min\".')"
   ]
  },
  {
   "cell_type": "code",
   "execution_count": 198,
   "metadata": {
    "pycharm": {
     "name": "#%%\n"
    }
   },
   "outputs": [
    {
     "name": "stdout",
     "output_type": "stream",
     "text": [
      "The song with the maximum acousticness in my playlist is Watch Out.               With a maximum acousticness value of 0.826. The song is by 2 Chainz,               released on the Trap-a-Velli Tre album in 2015-09-04. The track can be listened to here: https://open.spotify.com/track/2pPKT3tUldu7ly6VX2C4LG \n",
      " \n",
      "\n",
      "The song with the maximum danceability in my playlist is Caroline.               With a maximum danceability value of 0.946. The song is by Aminé,               released on the Caroline album in 2016-08-26. The track can be listened to here: https://open.spotify.com/track/4KGCepP37Xm5L9rwmE5Llq \n",
      " \n",
      "\n",
      "The song with the maximum duration_ms in my playlist is FEAR..               With a maximum duration_ms value of 460573. The song is by Kendrick Lamar,               released on the DAMN. album in 2017-04-14. The track can be listened to here: https://open.spotify.com/track/3SP0MlWYfu7xt1ZfMqBxh9 \n",
      " \n",
      "\n",
      "The song with the maximum energy in my playlist is Undisputed.               With a maximum energy value of 0.96. The song is by Ludacris,               released on the Theater Of The Mind (UK Version) album in 2008-01-01. The track can be listened to here: https://open.spotify.com/track/1QuYPKVcCOiwA9P4LKein0 \n",
      " \n",
      "\n",
      "The song with the maximum instrumentalness in my playlist is Rising Water.               With a maximum instrumentalness value of 0.381. The song is by James Vincent McMorrow,               released on the We Move album in 2016-09-02. The track can be listened to here: https://open.spotify.com/track/5AhtHiCWxcMi6qsZ2i77gt \n",
      " \n",
      "\n",
      "The song with the maximum key in my playlist is Magnolia.               With a maximum key value of 11. The song is by Playboi Carti,               released on the Playboi Carti album in 2017-04-14. The track can be listened to here: https://open.spotify.com/track/4gUQE7JiIwnQKde4RtKytB \n",
      " \n",
      "\n",
      "The song with the maximum liveness in my playlist is The Food.               With a maximum liveness value of 0.965. The song is by Common,               released on the Be album in 2005-05-24. The track can be listened to here: https://open.spotify.com/track/3YYteeLZAPGp0jdXITBg3n \n",
      " \n",
      "\n",
      "The song with the maximum loudness in my playlist is Good Drank.               With a maximum loudness value of -0.547. The song is by 2 Chainz,               released on the Hibachi for Lunch album in 2016-10-28. The track can be listened to here: https://open.spotify.com/track/1JWsD33y51ZlsXPlFDTYv2 \n",
      " \n",
      "\n",
      "The song with the maximum speechiness in my playlist is where u at?.               With a maximum speechiness value of 0.585. The song is by Isaiah Rashad,               released on the The Sun's Tirade album in 2016-09-02. The track can be listened to here: https://open.spotify.com/track/0UULVQXjgFPOttIW5qF7Ak \n",
      " \n",
      "\n",
      "The song with the maximum tempo in my playlist is Brooklyn's Finest.               With a maximum tempo value of 189.876. The song is by JAY-Z,               released on the Reasonable Doubt album in 1996-06-25. The track can be listened to here: https://open.spotify.com/track/1VswoHdsOgAJPWP9KEoD2e \n",
      " \n",
      "\n",
      "The song with the maximum valence in my playlist is Rocks Off.               With a maximum valence value of 0.889. The song is by The Rolling Stones,               released on the Exile On Main Street (Deluxe Version) album in 1972-05-12. The track can be listened to here: https://open.spotify.com/track/7hjeKMQBAXgskPJrXwPXgr \n",
      " \n",
      "\n"
     ]
    }
   ],
   "source": [
    "SONG_FEATURE_LIST = ['acousticness', 'danceability', 'duration_ms', 'energy', 'instrumentalness', 'key', 'liveness', 'loudness', 'speechiness', 'tempo', 'valence']\n",
    "\n",
    "for feature in SONG_FEATURE_LIST:\n",
    "    feature_extreme(feature, 'max')"
   ]
  },
  {
   "cell_type": "code",
   "execution_count": null,
   "metadata": {
    "pycharm": {
     "name": "#%%\n"
    }
   },
   "outputs": [],
   "source": []
  }
 ],
 "metadata": {
  "kernelspec": {
   "display_name": "Python 3",
   "language": "python",
   "name": "python3"
  },
  "language_info": {
   "codemirror_mode": {
    "name": "ipython",
    "version": 3
   },
   "file_extension": ".py",
   "mimetype": "text/x-python",
   "name": "python",
   "nbconvert_exporter": "python",
   "pygments_lexer": "ipython3",
   "version": "3.10.1"
  }
 },
 "nbformat": 4,
 "nbformat_minor": 1
}
