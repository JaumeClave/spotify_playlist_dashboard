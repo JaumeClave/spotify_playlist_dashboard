{
 "cells": [
  {
   "cell_type": "markdown",
   "metadata": {
    "pycharm": {
     "name": "#%% md\n"
    }
   },
   "source": [
    "# Spotify Compare\n",
    "I want to build something so that I'll be able to compare and contrast my Spotify playlists. My own and my friends. I will first build out the logic, then I will be able to build out a UI where users can drop their own playlists"
   ]
  },
  {
   "cell_type": "code",
   "execution_count": null,
   "metadata": {
    "collapsed": true,
    "pycharm": {
     "is_executing": true
    }
   },
   "outputs": [],
   "source": [
    "import pandas as pd\n",
    "import spotipy\n",
    "import spotipy.util as util\n",
    "from dateutil.parser import parse as parse_date"
   ]
  },
  {
   "cell_type": "code",
   "execution_count": null,
   "metadata": {
    "pycharm": {
     "name": "#%%\n"
    }
   },
   "outputs": [],
   "source": [
    "import platform\n",
    "platform.architecture()"
   ]
  },
  {
   "cell_type": "code",
   "execution_count": null,
   "metadata": {
    "pycharm": {
     "name": "#%%\n"
    }
   },
   "outputs": [],
   "source": [
    "api_creds = pd.read_csv(\"../data/external/api_keys.csv\", header=None)\n",
    "# api_creds"
   ]
  },
  {
   "cell_type": "code",
   "execution_count": null,
   "metadata": {
    "pycharm": {
     "name": "#%%\n"
    }
   },
   "outputs": [],
   "source": [
    "# Spotify API token\n",
    "user_id = api_creds[1].iloc[0]\n",
    "client_id = api_creds[1].iloc[1]\n",
    "client_secret = api_creds[1].iloc[2]\n",
    "\n",
    "# All scope\n",
    "scope = 'ugc-image-upload user-read-playback-state streaming user-read-email playlist-read-collaborative \\\n",
    "user-modify-playback-state user-read-private playlist-modify-public user-library-modify user-top-read \\\n",
    "user-read-playback-position user-read-currently-playing playlist-read-private user-follow-read \\\n",
    "app-remote-control user-read-recently-played playlist-modify-private user-follow-modify user-library-read'\n",
    "\n",
    "token = util.prompt_for_user_token(\n",
    "    user_id,\n",
    "    scope,\n",
    "    client_id = client_id,\n",
    "    client_secret = client_secret,\n",
    "    redirect_uri='http://127.0.0.1:9090')\n",
    "\n",
    "sp = spotipy.Spotify(auth = token)"
   ]
  },
  {
   "cell_type": "code",
   "execution_count": null,
   "metadata": {
    "pycharm": {
     "name": "#%%\n"
    }
   },
   "outputs": [],
   "source": [
    "results = sp.current_user_saved_tracks()\n",
    "for item in results['items']:\n",
    "    track = item['track']\n",
    "    print(track['name'] + ' - ' + track['artists'][0]['name'])"
   ]
  },
  {
   "cell_type": "code",
   "execution_count": null,
   "metadata": {
    "pycharm": {
     "name": "#%%\n"
    }
   },
   "outputs": [],
   "source": [
    "playlist_id = '37i9dQZF1E9Z5O3LQ5a9Hx'\n",
    "\n",
    "playlist = sp.user_playlist(user_id, playlist_id)\n",
    "tracks = playlist['tracks']['items']\n",
    "next_uri = playlist['tracks']['next']"
   ]
  },
  {
   "cell_type": "code",
   "execution_count": null,
   "metadata": {
    "pycharm": {
     "name": "#%%\n"
    }
   },
   "outputs": [],
   "source": [
    "tracks_df = pd.DataFrame([(track['track']['id'], track['track']['artists'][0]['name'], track['track']['name'],\n",
    "                           parse_date(track['track']['album']['release_date']) if track['track']['album']['release_date']\n",
    "                               else None,\n",
    "                           parse_date(track['added_at']))\n",
    "                          for track in playlist['tracks']['items']], columns=['id', 'artist', 'name', 'release_date', 'added_at'] )"
   ]
  },
  {
   "cell_type": "markdown",
   "metadata": {
    "pycharm": {
     "name": "#%% md\n"
    }
   },
   "source": [
    "## Artists in Playlist"
   ]
  },
  {
   "cell_type": "code",
   "execution_count": null,
   "metadata": {
    "pycharm": {
     "name": "#%%\n"
    }
   },
   "outputs": [],
   "source": [
    "ARTIST = \"artist\"\n",
    "ID = \"id\"\n",
    "SONGS = \"songs\"\n",
    "\n",
    "def make_artist_in_playlist_count_df(playlist_df):\n",
    "    \"\"\"\n",
    "    Function makes a dataframe showing the amount of songs each artist in the playlist has in the playlist\n",
    "    :param playlist_df: dataframe of the playlist\n",
    "    :return: artist count dataframe\n",
    "    \"\"\"\n",
    "    artist_count = playlist_df.groupby(ARTIST).count()[ID].reset_index().sort_values(ID, ascending=False).rename(columns={ID: SONGS})\n",
    "    artist_count.set_index(ARTIST, inplace=True)\n",
    "    return artist_count"
   ]
  },
  {
   "cell_type": "code",
   "execution_count": null,
   "metadata": {
    "pycharm": {
     "name": "#%%\n"
    }
   },
   "outputs": [],
   "source": [
    "# Show\n",
    "make_artist_in_playlist_count_df(tracks_df)"
   ]
  },
  {
   "cell_type": "code",
   "execution_count": null,
   "metadata": {
    "pycharm": {
     "name": "#%%\n"
    }
   },
   "outputs": [],
   "source": [
    "def get_playlist_tracks(username, playlist_id):\n",
    "    \"\"\"\n",
    "    Function returns all songs (JSON) for a playlist. Spotipy returns paginated results of 100 songs and this function filters through all pages\n",
    "    :param username:\n",
    "    :param playlist_id:\n",
    "    :return:\n",
    "    \"\"\"\n",
    "    results = sp.user_playlist_tracks(username,playlist_id)\n",
    "    tracks = results['items']\n",
    "    while results['next']:\n",
    "        results = sp.next(results)\n",
    "        tracks.extend(results['items'])\n",
    "    return tracks\n",
    "\n",
    "def get_playlist_df(playlist_id):\n",
    "    \"\"\"\n",
    "\n",
    "    :param playlist_id:\n",
    "    :return:\n",
    "    \"\"\"\n",
    "    playlist = sp.user_playlist(user_id, playlist_id)\n",
    "    tracks = get_playlist_tracks(user_id, playlist_id)\n",
    "    next_uri = playlist['tracks']['next']\n",
    "    name = playlist['name']\n",
    "    tracks_df = pd.DataFrame([(track['track']['id'], track['track']['name'],\n",
    "                               track[\"track\"][\"artists\"][0][\"id\"], track['track']['artists'][0]['name'],\n",
    "                               track[\"track\"][\"album\"][\"id\"], track['track']['album']['name'],\n",
    "                               track['track']['popularity'],\n",
    "                               parse_date(track['track']['album']['release_date'])\n",
    "                                   if track['track']['album']['release_date'] else None,\n",
    "                               parse_date(track['added_at']))\n",
    "                              for track in tracks],\n",
    "                             columns=['id', 'name', \"artist_id\", 'artist', \"album_id\", 'album', 'track popularity', 'release_date', 'added_at'])\n",
    "    tracks_df['playlist_name'] = name\n",
    "    tracks_df[\"release_year\"] = tracks_df[\"release_date\"].dt.year\n",
    "    return tracks_df"
   ]
  },
  {
   "cell_type": "code",
   "execution_count": null,
   "metadata": {
    "pycharm": {
     "name": "#%%\n"
    }
   },
   "outputs": [],
   "source": [
    "playlist_df_2017 = get_playlist_df(playlist_id)\n",
    "playlist_df_2017[\"release_date\"].dt.year.mean()\n",
    "playlist_df_2017"
   ]
  },
  {
   "cell_type": "markdown",
   "metadata": {},
   "source": [
    "## Count Songs per Decade"
   ]
  },
  {
   "cell_type": "code",
   "execution_count": null,
   "metadata": {
    "pycharm": {
     "name": "#%%\n"
    }
   },
   "outputs": [],
   "source": [
    "# Get decade\n",
    "decade = 2011 - (2011%10)\n",
    "decade"
   ]
  },
  {
   "cell_type": "code",
   "execution_count": null,
   "metadata": {
    "pycharm": {
     "name": "#%%\n"
    }
   },
   "outputs": [],
   "source": [
    "def get_decade_from_year(year):\n",
    "    \"\"\"\n",
    "    Function returns the decade (century + decade) for a provided year\n",
    "    :param year: integer\n",
    "    :return:\n",
    "    \"\"\"\n",
    "    decade = year - (year%10)\n",
    "    return decade"
   ]
  },
  {
   "cell_type": "code",
   "execution_count": null,
   "metadata": {
    "pycharm": {
     "name": "#%%\n"
    }
   },
   "outputs": [],
   "source": [
    "decade_dict = dict()\n",
    "\n",
    "for index, row in playlist_df_2017.iterrows():\n",
    "    song_decade = get_decade_from_year(row[\"release_year\"])\n",
    "    if song_decade not in decade_dict:\n",
    "        decade_dict[song_decade] = 1\n",
    "    else:\n",
    "        decade_dict[song_decade] += 1\n"
   ]
  },
  {
   "cell_type": "code",
   "execution_count": null,
   "metadata": {
    "pycharm": {
     "name": "#%%\n"
    }
   },
   "outputs": [],
   "source": [
    "decade_dict"
   ]
  },
  {
   "cell_type": "code",
   "execution_count": null,
   "metadata": {
    "pycharm": {
     "name": "#%%\n"
    }
   },
   "outputs": [],
   "source": [
    "# Function\n",
    "COLUMN_RELEASE_YEAR = \"release_year\"\n",
    "\n",
    "def make_song_decade_playlist_dict(playlist_dataframe):\n",
    "    \"\"\"\n",
    "    Function counts which decade songs in a playlist (dataframe) are from\n",
    "    :param playlist_dataframe:\n",
    "    :return: dictionary counting songs per decade\n",
    "    \"\"\"\n",
    "    decade_dict = dict()\n",
    "    for index, row in playlist_dataframe.iterrows():\n",
    "        song_decade = get_decade_from_year(row[COLUMN_RELEASE_YEAR])\n",
    "        if song_decade not in decade_dict:\n",
    "            decade_dict[song_decade] = 1\n",
    "        else:\n",
    "            decade_dict[song_decade] += 1\n",
    "    return decade_dict"
   ]
  },
  {
   "cell_type": "code",
   "execution_count": null,
   "metadata": {
    "pycharm": {
     "name": "#%%\n"
    }
   },
   "outputs": [],
   "source": [
    "make_song_decade_playlist_dict(playlist_df_2017)"
   ]
  },
  {
   "cell_type": "code",
   "execution_count": null,
   "metadata": {
    "pycharm": {
     "name": "#%%\n"
    }
   },
   "outputs": [],
   "source": [
    "# Testing with other playlist\n",
    "TOP_2018 = \"37i9dQZF1EjnleGtX5GCCK\"\n",
    "\n",
    "playlist_df_2018 = get_playlist_df(TOP_2018)\n",
    "make_song_decade_playlist_dict(playlist_df_2018)"
   ]
  },
  {
   "cell_type": "markdown",
   "metadata": {},
   "source": [
    "### Get Playlist ID from Link"
   ]
  },
  {
   "cell_type": "code",
   "execution_count": null,
   "metadata": {
    "pycharm": {
     "name": "#%%\n"
    }
   },
   "outputs": [],
   "source": [
    "def get_playist_id_from_link(playlist_link):\n",
    "    \"\"\"\n",
    "    Function returns the Spotify playlist id from the Spotify generated link\n",
    "    :param playlist_link:\n",
    "    :return:\n",
    "    \"\"\"\n",
    "    id = playlist_link.split(\"/\")[-1].split(\"?\")[0]\n",
    "    return id"
   ]
  },
  {
   "cell_type": "code",
   "execution_count": null,
   "metadata": {
    "pycharm": {
     "name": "#%%\n"
    }
   },
   "outputs": [],
   "source": [
    "get_playist_id_from_link(\"https://open.spotify.com/playlist/37i9dQZF1EtnQ0jMYBpCho?si=886b0fd885c7403a\")"
   ]
  },
  {
   "cell_type": "code",
   "execution_count": null,
   "metadata": {
    "pycharm": {
     "name": "#%%\n"
    }
   },
   "outputs": [],
   "source": [
    "# 2019\n",
    "id = get_playist_id_from_link(\"https://open.spotify.com/playlist/37i9dQZF1EtnQ0jMYBpCho?si=b9eb3b6491af4f50\")\n",
    "playlist_df = get_playlist_df(id)\n",
    "make_song_decade_playlist_dict(playlist_df)"
   ]
  },
  {
   "cell_type": "code",
   "execution_count": null,
   "metadata": {
    "pycharm": {
     "name": "#%%\n"
    }
   },
   "outputs": [],
   "source": [
    "# 2020\n",
    "id = get_playist_id_from_link(\"https://open.spotify.com/playlist/37i9dQZF1EM216Dz9SwARZ?si=194f693849c14b5c\")\n",
    "playlist_df = get_playlist_df(id)\n",
    "make_song_decade_playlist_dict(playlist_df)"
   ]
  },
  {
   "cell_type": "markdown",
   "metadata": {},
   "source": [
    "### Average Track Popularity"
   ]
  },
  {
   "cell_type": "code",
   "execution_count": null,
   "metadata": {
    "pycharm": {
     "name": "#%%\n"
    }
   },
   "outputs": [],
   "source": [
    "playlist_df_2017[\"track popularity\"].mean()\n",
    "playlist_df_2017[\"track popularity\"].min()\n",
    "playlist_df_2017"
   ]
  },
  {
   "cell_type": "markdown",
   "metadata": {
    "pycharm": {
     "name": "#%% md\n"
    }
   },
   "source": [
    "## Genres"
   ]
  },
  {
   "cell_type": "code",
   "execution_count": null,
   "metadata": {
    "pycharm": {
     "name": "#%%\n"
    }
   },
   "outputs": [],
   "source": [
    "genre_dict = dict()\n",
    "for index, row in playlist_df_2017.iterrows():\n",
    "    artist = sp.artist(row[\"artist_id\"])\n",
    "    artist_genres_list = artist[\"genres\"]\n",
    "    for genre in artist_genres_list:\n",
    "        if genre not in genre_dict:\n",
    "            genre_dict[genre] = 1\n",
    "        else:\n",
    "            genre_dict[genre] += 1\n",
    "genre_dict"
   ]
  },
  {
   "cell_type": "code",
   "execution_count": null,
   "metadata": {
    "pycharm": {
     "name": "#%%\n"
    }
   },
   "outputs": [],
   "source": [
    "genre_df = pd.DataFrame()\n",
    "genre_df[\"genre\"] = genre_dict.keys()\n",
    "genre_df[\"count\"] = genre_dict.values()\n",
    "genre_df.sort_values(\"count\", ascending=False)"
   ]
  },
  {
   "cell_type": "markdown",
   "metadata": {},
   "source": [
    "## Calendar"
   ]
  },
  {
   "cell_type": "code",
   "execution_count": null,
   "metadata": {
    "pycharm": {
     "name": "#%%\n"
    }
   },
   "outputs": [],
   "source": [
    "id = get_playist_id_from_link(\"https://open.spotify.com/playlist/1DiTkTibrpQjPLx7GKIUu1?si=c12fa9135cb94ee5\")\n",
    "playlist_df = get_playlist_df(id)\n",
    "make_song_decade_playlist_dict(playlist_df)"
   ]
  },
  {
   "cell_type": "code",
   "execution_count": null,
   "metadata": {
    "pycharm": {
     "name": "#%%\n"
    }
   },
   "outputs": [],
   "source": [
    "dms = playlist_df.groupby(playlist_df['added_at'].dt.to_period('D')).count()['id'].to_timestamp()\n",
    "max_year = playlist_df['added_at'].dt.to_period('D').max().year\n",
    "min_year = playlist_df['added_at'].dt.to_period('D').min().year\n",
    "\n",
    "idx = pd.date_range(str(min_year) + '-1-1', str(max_year) + '-12-31')\n",
    "dms.index = pd.DatetimeIndex(dms.index)\n",
    "daily_adds = dms.reindex(idx, fill_value=0)"
   ]
  },
  {
   "cell_type": "code",
   "execution_count": null,
   "metadata": {
    "pycharm": {
     "name": "#%%\n"
    }
   },
   "outputs": [],
   "source": [
    "# Create discrete colors\n",
    "from pylab import *\n",
    "cmap = cm.get_cmap('YlGn', 10)\n",
    "\n",
    "import calplot\n",
    "calplot.calplot(daily_adds, cmap = cmap, figsize = (20, 7))\n",
    "plt.show()"
   ]
  },
  {
   "cell_type": "code",
   "execution_count": null,
   "metadata": {
    "pycharm": {
     "name": "#%%\n"
    }
   },
   "outputs": [],
   "source": [
    "from pylab import *\n",
    "import calplot\n",
    "\n",
    "\n",
    "ADDED_AT_COLUMN = \"added_at\"\n",
    "DAY_FREQUENCY = \"D\"\n",
    "START_OF_YEAR = \"-1-1\"\n",
    "END_OF_YEAR = \"-12-31\"\n",
    "COLORWAY_CALENDAR = 'YlGn'\n",
    "\n",
    "\n",
    "def make_daily_add_series(playlist_df):\n",
    "    \"\"\"\n",
    "\n",
    "    :param playlist_df:\n",
    "    :return:\n",
    "    \"\"\"\n",
    "    dms = playlist_df.groupby(playlist_df[ADDED_AT_COLUMN].dt.to_period(DAY_FREQUENCY)).count()[ID].to_timestamp()\n",
    "    max_year = playlist_df[ADDED_AT_COLUMN].dt.to_period(DAY_FREQUENCY).max().year\n",
    "    min_year = playlist_df[ADDED_AT_COLUMN].dt.to_period(DAY_FREQUENCY).min().year\n",
    "    idx = pd.date_range(str(min_year) + START_OF_YEAR, str(max_year) + END_OF_YEAR)\n",
    "    dms.index = pd.DatetimeIndex(dms.index)\n",
    "    daily_adds = dms.reindex(idx, fill_value=0)\n",
    "    return daily_adds\n",
    "\n",
    "def plot_date_added_calendar(daily_adds):\n",
    "    \"\"\"\n",
    "\n",
    "    :param daily_adds:\n",
    "    :return:\n",
    "    \"\"\"\n",
    "    cmap = cm.get_cmap(COLORWAY_CALENDAR, 10)\n",
    "    calplot.calplot(daily_adds, cmap = cmap, figsize = (20, 7))\n",
    "    plt.show()\n",
    "    return None\n",
    "\n",
    "def pipeline_date_added_calendar(playlist_df):\n",
    "    \"\"\"\n",
    "\n",
    "    :param playlist_df:\n",
    "    :return:\n",
    "    \"\"\"\n",
    "    daily_adds = make_daily_add_series(playlist_df)\n",
    "    plot_date_added_calendar(daily_adds)"
   ]
  },
  {
   "cell_type": "code",
   "execution_count": null,
   "metadata": {
    "pycharm": {
     "name": "#%%\n"
    }
   },
   "outputs": [],
   "source": [
    "pipeline_date_added_calendar(playlist_df)"
   ]
  },
  {
   "cell_type": "code",
   "execution_count": null,
   "metadata": {
    "pycharm": {
     "name": "#%%\n"
    }
   },
   "outputs": [],
   "source": [
    "id = get_playist_id_from_link(\"https://open.spotify.com/playlist/0Fv83T55JNf7lEyqwuZscq?si=e7e9d03416e44857\")\n",
    "playlist_df = get_playlist_df(id)\n",
    "pipeline_date_added_calendar(playlist_df)"
   ]
  },
  {
   "cell_type": "markdown",
   "metadata": {
    "pycharm": {
     "name": "#%% md\n"
    }
   },
   "source": [
    "## Song Features"
   ]
  },
  {
   "cell_type": "code",
   "execution_count": null,
   "metadata": {
    "pycharm": {
     "name": "#%%\n"
    }
   },
   "outputs": [],
   "source": [
    "features = list()\n",
    "\n",
    "for n, chunk_series in playlist_df_2017.groupby(np.arange(len(playlist_df_2017)) // 100)['id']:\n",
    "    features += sp.audio_features([*map(str, chunk_series)])\n",
    "\n",
    "features_df = pd.DataFrame.from_dict(filter(None, features))\n",
    "\n",
    "tracks_with_features_df = playlist_df_2017.merge(features_df, on = ['id'], how = 'inner')"
   ]
  },
  {
   "cell_type": "code",
   "execution_count": null,
   "metadata": {
    "pycharm": {
     "name": "#%%\n"
    }
   },
   "outputs": [],
   "source": [
    "tracks_with_features_df"
   ]
  },
  {
   "cell_type": "code",
   "execution_count": null,
   "metadata": {
    "pycharm": {
     "name": "#%%\n"
    }
   },
   "outputs": [],
   "source": [
    "from IPython.display import Image\n",
    "from IPython.core.display import HTML\n",
    "\n",
    "def feature_extreme(feature, extreme):\n",
    "    if extreme == 'max':\n",
    "        df_max = tracks_with_features_df[feature].max()\n",
    "        df = tracks_with_features_df[tracks_with_features_df[feature] == df_max]\n",
    "\n",
    "        track_url = sp.track(df['id'].iloc[0])['external_urls']['spotify']\n",
    "\n",
    "        image_url = sp.track(df['id'].iloc[0])['album']['images'][0]['url']\n",
    "\n",
    "        print(f\"The song with the maximum {feature} in my playlist is {df['name'].iloc[0]}. \\\n",
    "              With a maximum {feature} value of {df_max}. The song is by {df['artist'].iloc[0]}, \\\n",
    "              released on the {df['album'].iloc[0]} album in {df['release_date'].dt.to_period('D').iloc[0]}.\",\n",
    "              f\"The track can be listened to here: {track_url}\", '\\n', '\\n')\n",
    "\n",
    "        return Image(url = image_url, width = 250)\n",
    "\n",
    "    elif extreme == 'min':\n",
    "        df_min = tracks_with_features_df[feature].min()\n",
    "        df = tracks_with_features_df[tracks_with_features_df[feature] == df_min]\n",
    "\n",
    "        track_url = sp.track(df['id'].iloc[0])['external_urls']['spotify']\n",
    "\n",
    "        image_url = sp.track(df['id'].iloc[0])['album']['images'][0]['url']\n",
    "\n",
    "        print(f\"The song with the minimum {feature} in my playlist is {df['name'].iloc[0]}. \\\n",
    "              With a minimum {feature} value of {df_min}. The song is by {df['artist'].iloc[0]}, \\\n",
    "              released on the {df['album'].iloc[0]} album in {df['release_date'].dt.to_period('D').iloc[0]}.\",\n",
    "              f\"The track can be listened to here: {track_url}\", '\\n', '\\n')\n",
    "\n",
    "        return Image(url = image_url, width = 250)\n",
    "\n",
    "    else:\n",
    "        raise ValueError('extreme value must be \"max\" or \"min\".')"
   ]
  },
  {
   "cell_type": "code",
   "execution_count": null,
   "metadata": {
    "pycharm": {
     "name": "#%%\n"
    }
   },
   "outputs": [],
   "source": [
    "SONG_FEATURE_LIST = ['acousticness', 'danceability', 'duration_ms', 'energy', 'instrumentalness', 'key', 'liveness', 'loudness', 'speechiness', 'tempo', 'valence']\n",
    "\n",
    "for feature in SONG_FEATURE_LIST:\n",
    "    feature_extreme(feature, 'max')"
   ]
  },
  {
   "cell_type": "code",
   "execution_count": null,
   "metadata": {
    "pycharm": {
     "name": "#%%\n"
    }
   },
   "outputs": [],
   "source": []
  }
 ],
 "metadata": {
  "kernelspec": {
   "name": "python38032bit30d325bc9a1c41a5b32130cf4756f89a",
   "language": "python",
   "display_name": "Python 3.8.0 32-bit"
  },
  "language_info": {
   "codemirror_mode": {
    "name": "ipython",
    "version": 3
   },
   "file_extension": ".py",
   "mimetype": "text/x-python",
   "name": "python",
   "nbconvert_exporter": "python",
   "pygments_lexer": "ipython3",
   "version": "3.10.1"
  }
 },
 "nbformat": 4,
 "nbformat_minor": 1
}